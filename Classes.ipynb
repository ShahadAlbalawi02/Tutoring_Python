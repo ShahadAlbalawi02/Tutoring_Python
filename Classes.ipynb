{
  "nbformat": 4,
  "nbformat_minor": 0,
  "metadata": {
    "colab": {
      "provenance": [],
      "authorship_tag": "ABX9TyNtWr7HStk+cls55ppodbwZ",
      "include_colab_link": true
    },
    "kernelspec": {
      "name": "python3",
      "display_name": "Python 3"
    },
    "language_info": {
      "name": "python"
    }
  },
  "cells": [
    {
      "cell_type": "markdown",
      "metadata": {
        "id": "view-in-github",
        "colab_type": "text"
      },
      "source": [
        "<a href=\"https://colab.research.google.com/github/Shahadbal/Tutoring_Python/blob/main/Classes.ipynb\" target=\"_parent\"><img src=\"https://colab.research.google.com/assets/colab-badge.svg\" alt=\"Open In Colab\"/></a>"
      ]
    },
    {
      "cell_type": "markdown",
      "source": [
        "# Constructing Classes"
      ],
      "metadata": {
        "id": "9N-yBZBogSdm"
      }
    },
    {
      "cell_type": "code",
      "source": [
        "class Employee():\n",
        "    pass\n",
        "\n",
        "\n",
        "e1 = Employee()\n"
      ],
      "metadata": {
        "id": "y3ulw6BY3VJ4"
      },
      "execution_count": null,
      "outputs": []
    },
    {
      "cell_type": "markdown",
      "source": [
        "create a class called `Employee` the class is empty, use the keyword pass to prevent the error which is generated when you don’t add any\n",
        "code under the class definition"
      ],
      "metadata": {
        "id": "VpphjVYutgLY"
      }
    },
    {
      "cell_type": "code",
      "source": [
        "class Employee():\n",
        "    pass\n",
        "\n",
        "emp1 = Employee()\n",
        "print(emp1)"
      ],
      "metadata": {
        "colab": {
          "base_uri": "https://localhost:8080/"
        },
        "id": "-71Ek4UBtWEX",
        "outputId": "45dac4cd-f86d-4016-abe7-905103697392"
      },
      "execution_count": null,
      "outputs": [
        {
          "output_type": "stream",
          "name": "stdout",
          "text": [
            "<__main__.Employee object at 0x7e9217292320>\n"
          ]
        }
      ]
    },
    {
      "cell_type": "markdown",
      "source": [
        "We want to put some variables to the class"
      ],
      "metadata": {
        "id": "J2w5UqseuIsg"
      }
    },
    {
      "cell_type": "code",
      "source": [
        "class Employee():\n",
        "    \"a simple class\"\n",
        "    def __init__(self, fn, ln):\n",
        "        self.first_name=fn\n",
        "        self.last_name=ln\n",
        "\n",
        "staff1=Employee(\"Ahmad\", \"Khalid\")\n",
        "print(staff1.first_name, staff1.last_name)\n",
        "print(staff1)"
      ],
      "metadata": {
        "colab": {
          "base_uri": "https://localhost:8080/"
        },
        "id": "nKNMbfnQt2VJ",
        "outputId": "7b1f3023-80a6-4422-f353-77cc6b95946f"
      },
      "execution_count": null,
      "outputs": [
        {
          "output_type": "stream",
          "name": "stdout",
          "text": [
            "Ahmad Khalid\n",
            "<__main__.Employee object at 0x7e9217292500>\n"
          ]
        }
      ]
    },
    {
      "cell_type": "code",
      "source": [
        "class Employee():\n",
        "  def __init__(self, name, dep, empNumber):\n",
        "    self.name = name\n",
        "    self.departmant = dep\n",
        "    self.empNumber = empNumber\n",
        "\n",
        "class Manager():\n",
        "  def __init__(self, managerNum, name, dep, empNumber):\n",
        "    self.managerNumber = managerNum\n",
        "    self.name = name\n",
        "    self.dep = dep\n",
        "    self.empNumber = empNumber\n",
        "\n",
        "\n",
        "\n",
        "\n",
        "\n",
        "m1 = Employee(\"Shahad\", \"HR\", 1234)\n",
        "\n",
        "m2 = Manager(111, \"Lujain\", \"HR\", 12345)\n",
        "\n",
        "\n",
        "\n",
        "print(m1.name)\n",
        "\n"
      ],
      "metadata": {
        "colab": {
          "base_uri": "https://localhost:8080/"
        },
        "id": "6KnyxBvk5rB9",
        "outputId": "db4a0f1f-a33c-4803-d733-97747c07e6ba"
      },
      "execution_count": null,
      "outputs": [
        {
          "output_type": "stream",
          "name": "stdout",
          "text": [
            "Lujain\n"
          ]
        }
      ]
    },
    {
      "cell_type": "markdown",
      "source": [],
      "metadata": {
        "id": "lwqQFVtQ5p39"
      }
    },
    {
      "cell_type": "markdown",
      "source": [
        "the `__init __` of that class is called and basically acts as an interface between the class and your code. Another important concept to understand is that of `self` (we can use a different name for this as well) variable of classes in Python . The variable `self` represents\n",
        "a particular instance object of the class inside the class definition."
      ],
      "metadata": {
        "id": "xiX-vDFlvE12"
      }
    },
    {
      "cell_type": "code",
      "source": [
        "class Employee():\n",
        "    \"a simple class\"\n",
        "    def __init__(self, fn, ln):\n",
        "        self.first_name=fn\n",
        "        self.last_name=ln\n",
        "\n",
        "    def full_name(self):\n",
        "        return self.first_name+ ' '+self.last_name\n",
        "\n",
        "staff1=Employee('Ahmad', 'Khalid')\n",
        "print(staff1.first_name, staff1.last_name)\n",
        "\n",
        "print(staff1.full_name())"
      ],
      "metadata": {
        "colab": {
          "base_uri": "https://localhost:8080/"
        },
        "outputId": "18d4fb4a-f3ec-4ea5-982c-f73a1047e38f",
        "id": "_Brhw8Xnvf5F"
      },
      "execution_count": null,
      "outputs": [
        {
          "output_type": "stream",
          "name": "stdout",
          "text": [
            "Ahmad Khalid\n",
            "Ahmad Khalid\n"
          ]
        }
      ]
    },
    {
      "cell_type": "code",
      "source": [
        "class"
      ],
      "metadata": {
        "id": "Vup54pia5brS"
      },
      "execution_count": null,
      "outputs": []
    },
    {
      "cell_type": "code",
      "source": [
        "class Employee():\n",
        "    \"a simple class\"\n",
        "    course = \"AI Course\"\n",
        "    def __init__(self, fn, ln):\n",
        "        self.first_name=fn\n",
        "        self.last_name=ln\n",
        "\n",
        "    def full_name(self):\n",
        "        return self.first_name+ ' '+self.last_name\n",
        "\n",
        "staff1=Employee('Ahmad', 'Khalid')\n",
        "print(staff1.first_name, staff1.last_name)\n",
        "print(staff1.full_name())\n",
        "print(staff1.course)\n",
        "staff1.course= \"CS Course\"\n",
        "print(staff1.course)"
      ],
      "metadata": {
        "colab": {
          "base_uri": "https://localhost:8080/"
        },
        "outputId": "68317ccb-a67a-4ed0-cae4-87c8257045d6",
        "id": "fDy2M2Upv9tf"
      },
      "execution_count": null,
      "outputs": [
        {
          "output_type": "stream",
          "name": "stdout",
          "text": [
            "Ahmad Khalid\n",
            "Ahmad Khalid\n",
            "AI Course\n",
            "CS Course\n"
          ]
        }
      ]
    },
    {
      "cell_type": "markdown",
      "source": [
        "Create a class called `NumberSet` that accepts 2 integers as input, and defines two instance variables: `num1` and `num2`, which hold each of the input integers. Then, create an instance of `NumberSet` where its num1 is 6 and its num2 is 10. Save this instance to a variable ` t`."
      ],
      "metadata": {
        "id": "sRnEz2l9gaBn"
      }
    },
    {
      "cell_type": "code",
      "execution_count": null,
      "metadata": {
        "id": "yxEZgRHbgPUA"
      },
      "outputs": [],
      "source": [
        "class NumberSet():\n",
        "    def __init__(self, num1, num2):\n",
        "        self.num1 = num1\n",
        "        self.num2 = num2\n",
        "\n",
        "t = NumberSet(6,10)\n",
        "print(t.num1)\n",
        "print(t.num2)"
      ]
    },
    {
      "cell_type": "markdown",
      "source": [
        "Create a class called `Animal` that accepts two numbers as inputs and assigns them respectively to two instance variables: `arms` and `legs`. Create an instance method called `limbs` that, when called, returns the total number of limbs the animal has. To the variable name `spider`, assign an instance of `Animal` that has 4 arms and 4 legs. Call the `limbs` method on the `spider` instance and save the result to the variable name `spidlimbs`."
      ],
      "metadata": {
        "id": "cPRzI4oRkB0U"
      }
    },
    {
      "cell_type": "code",
      "source": [
        "class Animal():\n",
        "    def __init__(self, a, l):\n",
        "        self.arms = a # 4\n",
        "        self.legs = l # 4\n",
        "\n",
        "    def limbs(self):\n",
        "        return self.arms + self.legs\n",
        "\n",
        "spider = Animal(4,4)\n",
        "spidlimbs = spider.limbs() #8\n",
        "print(spidlimbs)"
      ],
      "metadata": {
        "colab": {
          "base_uri": "https://localhost:8080/"
        },
        "id": "2_VC8QsJjx7O",
        "outputId": "39993aed-4240-4ea4-d63f-c2e01dac2501"
      },
      "execution_count": null,
      "outputs": [
        {
          "output_type": "stream",
          "name": "stdout",
          "text": [
            "8\n"
          ]
        }
      ]
    },
    {
      "cell_type": "markdown",
      "source": [
        "# Objects and Instances"
      ],
      "metadata": {
        "id": "NLswLNzasKJo"
      }
    },
    {
      "cell_type": "markdown",
      "source": [
        "Create a class called `Cereal` that accepts three inputs: 2 strings and 1 integer, and assigns them to 3 instance variables in the constructor: `name`, `brand`, and `fiber`.\n",
        "\n",
        "When an instance of `Cereal` is printed, the user should see the following: “[name] cereal is produced by [brand] and has [fiber integer] grams of fiber in every serving!”\n",
        "\n",
        "To the variable name `c1`, assign an instance of `Cereal` whose `name` is \"Corn Flakes\", `brand` is \"Kellogg's\", and `fiber` is 2.\n",
        "\n",
        "To the variable name `c2`, assign an instance of `Cereal` whose `name` is \"Honey Nut Cheerios\", `brand` is \"General Mills\", and `fiber` is 3. Practice printing both!"
      ],
      "metadata": {
        "id": "kevTPPXMsUns"
      }
    },
    {
      "cell_type": "code",
      "source": [
        "class Cereal():\n",
        "    nameR = \"Cereal\"\n",
        "    def __init__(self, n, b, f):\n",
        "        self.name = n\n",
        "        self.brand = b\n",
        "        self.fiber = f\n",
        "\n",
        "    def __str__(self):\n",
        "        return f\"{self.name} cereal is produced by {self.brand} and has {self.fiber} grams of fiber in every serving!\"\n",
        "\n",
        "c1 = Cereal(\"Corn Flakes\", \"K\", 2)\n",
        "print(c1)\n",
        "print(c1.nameR)\n",
        "\n",
        "c2 = Cereal(\"Honey Nut Cheerios\", \"G\", 3)\n",
        "print(c2)\n",
        "print(c2.nameR)"
      ],
      "metadata": {
        "colab": {
          "base_uri": "https://localhost:8080/"
        },
        "id": "jmTg0JxL-fLp",
        "outputId": "03a8f7c4-b5b8-45dd-9797-ee0e4d25813c"
      },
      "execution_count": null,
      "outputs": [
        {
          "output_type": "stream",
          "name": "stdout",
          "text": [
            "Corn Flakes cereal is produced by K and has 2 grams of fiber in every serving!\n",
            "Cereal\n",
            "Honey Nut Cheerios cereal is produced by G and has 3 grams of fiber in every serving!\n",
            "Cereal\n"
          ]
        }
      ]
    },
    {
      "cell_type": "code",
      "source": [
        "class Cereal():\n",
        "    nameR = \"Cereal\"\n",
        "    def __init__(self, n, b, f):\n",
        "        self.name = n\n",
        "        self.brand = b\n",
        "        self.fiber = f\n",
        "\n",
        "    def __str__(self):\n",
        "        return f\"{self.name} cereal is produced by {self.brand} and has {self.fiber} grams of fiber in every serving!\"\n",
        "\n",
        "c1 = Cereal(\"Corn Flakes\", \"K\", 2)\n",
        "print(c1)\n",
        "print(c1.nameR)\n",
        "\n",
        "c2 = Cereal(\"Honey Nut Cheerios\", \"G\", 3)\n",
        "print(c2)\n",
        "print(c2.nameR)"
      ],
      "metadata": {
        "id": "Mq8PEKJDkAkJ",
        "colab": {
          "base_uri": "https://localhost:8080/"
        },
        "outputId": "6a0f6acb-7a20-4a74-c680-687708e46718"
      },
      "execution_count": null,
      "outputs": [
        {
          "output_type": "stream",
          "name": "stdout",
          "text": [
            "Corn Flakes cereal is produced by K and has 2 grams of fiber in every serving!\n",
            "Cereal\n",
            "Honey Nut Cheerios cereal is produced by G and has 3 grams of fiber in every serving!\n",
            "Cereal\n"
          ]
        }
      ]
    },
    {
      "cell_type": "code",
      "source": [
        "class Manager():\n",
        "    def __init__(self, n, d):\n",
        "        self.name = n\n",
        "        self.de = d\n",
        "\n",
        "    def diplayNames(self, othermanager):\n",
        "      return f'{self.name} is the first Manager, {othermanager.name} is the second manager'\n",
        "    def __str__(self):\n",
        "        return f\"{self.name}  is manager of {self.de}\"\n",
        "\n",
        "\n",
        "m1 = Manager(\"Ahmad\", \"Dep1\")\n",
        "print(m1)\n",
        "\n",
        "m2 = Manager(\"Mohammad\", \"Dep2\")\n",
        "print(m2)\n",
        "\n",
        "print(m1.diplayNames(m2))\n",
        "\n",
        "print(f'{m1.name} is the first Manager, {m2.name} is the second manager')"
      ],
      "metadata": {
        "colab": {
          "base_uri": "https://localhost:8080/"
        },
        "id": "TYvAusCf0jwU",
        "outputId": "d79fc3d0-a5ca-4126-d163-e8b6bdab2f5c"
      },
      "execution_count": null,
      "outputs": [
        {
          "output_type": "stream",
          "name": "stdout",
          "text": [
            "Ahmad  is manager of Dep1\n",
            "Mohammad  is manager of Dep2\n",
            "Ahmad is the first Manager, Mohammad is the second manager\n",
            "Ahmad is the first Manager, Mohammad is the second manager\n"
          ]
        }
      ]
    },
    {
      "cell_type": "markdown",
      "source": [
        "# Exercises"
      ],
      "metadata": {
        "id": "ag6C6fYL9Cfp"
      }
    },
    {
      "cell_type": "markdown",
      "source": [
        "Define a class called Bike that accepts a string and a float as input, and assigns those inputs respectively to two instance variables, color and price. Assign to the variable testOne an instance of Bike whose color is blue and whose price is 89.99. Assign to the variable testTwo an instance of Bike whose color is purple and whose price is 25.0."
      ],
      "metadata": {
        "id": "n1E90ii39GWV"
      }
    },
    {
      "cell_type": "code",
      "source": [
        "class Bike():\n",
        "    def __init__(self, color, price):\n",
        "        self.color = color\n",
        "        self.price = price\n",
        "\n",
        "testOne = Bike(\"blue\", 89.99)\n",
        "testTwo = Bike(\"purple\", 25.0)\n",
        "\n",
        "print(testOne.color)"
      ],
      "metadata": {
        "id": "UMfOHGWn9IHx",
        "colab": {
          "base_uri": "https://localhost:8080/"
        },
        "outputId": "975b2419-f10d-46b9-f289-0fa4d9d6390b"
      },
      "execution_count": null,
      "outputs": [
        {
          "output_type": "stream",
          "name": "stdout",
          "text": [
            "blue\n"
          ]
        }
      ]
    },
    {
      "cell_type": "markdown",
      "source": [
        "Create a class called AppleBasket whose constructor accepts two inputs: a string representing a color, and a number representing a quantity of apples. The constructor should initialize two instance variables: apple_color and apple_quantity. Write a class method called increase that increases the quantity by 1 each time it is invoked. You should also write a __str__ method for this class that returns a string of the format: \"A basket of [quantity goes here] [color goes here] apples.\" e.g. \"A basket of 4 red apples.\" or \"A basket of 50 blue apples.\" (Writing some test code that creates instances and assigns values to variables may help you solve this problem!)"
      ],
      "metadata": {
        "id": "K6-v37Sm9L-7"
      }
    },
    {
      "cell_type": "code",
      "source": [
        "class AppleBasket():\n",
        "    def __init__(self, color, quan):\n",
        "        self.apple_color = color\n",
        "        self.apple_quantity = quan\n",
        "\n",
        "    def increase(self):\n",
        "        self.apple_quantity = self.apple_quantity+1\n",
        "\n",
        "    def __str__(self):\n",
        "        return  f\"A basket of {self.apple_quantity} {self.apple_color} apples.\"\n",
        "\n",
        "testIn1 = AppleBasket(\"red\", 4)\n",
        "print(testIn1)\n",
        "testIn1.increase()\n",
        "print(testIn1)"
      ],
      "metadata": {
        "id": "57qlDqsL9LgM"
      },
      "execution_count": null,
      "outputs": []
    },
    {
      "cell_type": "markdown",
      "source": [
        "Define a class called BankAccount that accepts the name you want associated with your bank account in a string, and an integer that represents the amount of money in the account. The constructor should initialize two instance variables from those inputs: name and amt. Add a string method so that when you print an instance of BankAccount, you see \"Your account, [name goes here], has [start_amt goes here] dollars.\" Create an instance of this class with \"Bob\" as the name and 100 as the amount. Save this to the variable t1."
      ],
      "metadata": {
        "id": "T1Ak90oY-3Qg"
      }
    },
    {
      "cell_type": "code",
      "source": [
        "class BankAccount():\n",
        "    def __init__(self, name, amount):\n",
        "        self.name = name\n",
        "        self.amt = amount\n",
        "\n",
        "    def __str__(self):\n",
        "        return f\"Your account, {self.name}, has {self.amt} dollars.\"\n",
        "\n",
        "t1 = BankAccount(\"Bob\", 100)\n",
        "print(t1)"
      ],
      "metadata": {
        "id": "xDzpgJ4z-3xh",
        "colab": {
          "base_uri": "https://localhost:8080/"
        },
        "outputId": "35250b1f-e53c-48c5-8ce0-4585f70eed2a"
      },
      "execution_count": null,
      "outputs": [
        {
          "output_type": "stream",
          "name": "stdout",
          "text": [
            "Your account, Bob, has 100 dollars.\n"
          ]
        }
      ]
    },
    {
      "cell_type": "code",
      "source": [],
      "metadata": {
        "id": "42S3iolyBV8-"
      },
      "execution_count": null,
      "outputs": []
    }
  ]
}