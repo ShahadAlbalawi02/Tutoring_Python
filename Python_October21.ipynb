{
  "nbformat": 4,
  "nbformat_minor": 0,
  "metadata": {
    "colab": {
      "provenance": [],
      "authorship_tag": "ABX9TyMyrwI+IAKms0LiwU55HjnT",
      "include_colab_link": true
    },
    "kernelspec": {
      "name": "python3",
      "display_name": "Python 3"
    },
    "language_info": {
      "name": "python"
    }
  },
  "cells": [
    {
      "cell_type": "markdown",
      "metadata": {
        "id": "view-in-github",
        "colab_type": "text"
      },
      "source": [
        "<a href=\"https://colab.research.google.com/github/Shahadbal/Tutoring_Python/blob/main/Python_October21.ipynb\" target=\"_parent\"><img src=\"https://colab.research.google.com/assets/colab-badge.svg\" alt=\"Open In Colab\"/></a>"
      ]
    },
    {
      "cell_type": "code",
      "source": [],
      "metadata": {
        "id": "fyZ4qoipyyof"
      },
      "execution_count": null,
      "outputs": []
    },
    {
      "cell_type": "markdown",
      "source": [
        "# Exrecises"
      ],
      "metadata": {
        "id": "DfVcc9MheJtB"
      }
    },
    {
      "cell_type": "markdown",
      "source": [
        "Quick Recall"
      ],
      "metadata": {
        "id": "W2PyLqleeFl2"
      }
    },
    {
      "cell_type": "code",
      "execution_count": null,
      "metadata": {
        "colab": {
          "base_uri": "https://localhost:8080/"
        },
        "id": "lWd5S6CecrHh",
        "outputId": "fa9efe26-a2e0-42b1-c12e-45f9c2b6fb8e"
      },
      "outputs": [
        {
          "output_type": "stream",
          "name": "stdout",
          "text": [
            "1\n",
            "2\n",
            "3\n",
            "a\n",
            "b\n",
            "c\n",
            "fn Rania\n",
            "ln Ahmad\n",
            "fn\n",
            "ln\n",
            "0 1\n",
            "1 2\n",
            "2 3\n",
            "a\n",
            "b\n",
            "c\n",
            "0 fn Rania\n",
            "1 ln Ahmad\n"
          ]
        }
      ],
      "source": [
        "#Recall\n",
        "lst1=[1,2,3]\n",
        "tup1=('a','b','c')\n",
        "dict1={'fn':'Rania', 'ln':'Ahmad'}\n",
        "for element in lst1: # 1 2 3\n",
        "  print(element)\n",
        "for element in tup1: #\n",
        "  print(element)\n",
        "for key in dict1: # dict1['fn'] = Rania\n",
        "  print(key , dict1[key])\n",
        "for c in dict1:\n",
        "  print(c) #\n",
        "for c,element in enumerate(lst1): #c will store the indices of the elements, while 'element' will hold the actual values of the elements\n",
        "  print(c,element)  # 0 1\n",
        "for c, element in enumerate(tup1):\n",
        "  print(element)\n",
        "for c, key in enumerate(dict1):\n",
        "  print(c, key , dict1[key])"
      ]
    },
    {
      "cell_type": "code",
      "source": [
        "stu_name = ['Ahmad', 'Reem', 'Fatima']\n",
        "for c,name in enumerate(stu_name):\n",
        "  print(c,'\\t', name)"
      ],
      "metadata": {
        "colab": {
          "base_uri": "https://localhost:8080/"
        },
        "id": "8_n0fG-VdqN9",
        "outputId": "c38c94a5-6cca-4f5a-b740-f66101e67da7"
      },
      "execution_count": null,
      "outputs": [
        {
          "output_type": "stream",
          "name": "stdout",
          "text": [
            "0 \t Ahmad\n",
            "1 \t Reem\n",
            "2 \t Fatima\n"
          ]
        }
      ]
    },
    {
      "cell_type": "code",
      "source": [
        "#Write a program that asks the user to input, their name, age and occupation and outputs a string, \"[name] is [age] years old and works as a [job].\"\n",
        "name = input(\"Enter your name: \")\n",
        "age = input(\"Enter your age: \")\n",
        "occupation = input(\"Enter your occupation: \")\n",
        "\n",
        "# Create the output string\n",
        "output_string = f\"{name} is {age} years old and works as a {occupation}.\"\n",
        "\n",
        "# Display the result\n",
        "print(output_string)"
      ],
      "metadata": {
        "colab": {
          "base_uri": "https://localhost:8080/"
        },
        "id": "MIvQ0OKPWyAi",
        "outputId": "00c7fdeb-6906-431c-b5e3-3a2a71986b08"
      },
      "execution_count": null,
      "outputs": [
        {
          "output_type": "stream",
          "name": "stdout",
          "text": [
            "Enter your name: Shahad\n",
            "Enter your age: 21\n",
            "Enter your occupation: Stufent\n",
            "Shahad is 21 years old and works as a Stufent.\n"
          ]
        }
      ]
    },
    {
      "cell_type": "code",
      "source": [
        "#Write a program that takes a positive integer as an input and return’s it’s length. Return 0 if the number is not a positive integer.\n",
        "num = -24256\n",
        "# Check if the input is a positive integer\n",
        "if num >=0:\n",
        "    num_str = str(num) #Now we are dealing with 2456 as a string not number\n",
        "    # Calculate and display the length\n",
        "    length = len(num_str)\n",
        "    print(f\"The length of {num} is {length}.\")\n",
        "else:\n",
        "    print(\"0\")"
      ],
      "metadata": {
        "colab": {
          "base_uri": "https://localhost:8080/"
        },
        "id": "zchhZew5XEe2",
        "outputId": "6ed0d167-ae17-45ca-ba4a-f3ccffc08ac9"
      },
      "execution_count": null,
      "outputs": [
        {
          "output_type": "stream",
          "name": "stdout",
          "text": [
            "0\n"
          ]
        }
      ]
    },
    {
      "cell_type": "code",
      "source": [
        "#In a single line of code extract all numbers from a list that are greater than 100.\n",
        "\n",
        "lis1 = [30, 55, 1004 , 112.5, 33.8, 500.4, 76, 8, 200]\n",
        "lis2= [element for element in lis1 if element>100] #\n",
        "print(lis2)"
      ],
      "metadata": {
        "colab": {
          "base_uri": "https://localhost:8080/"
        },
        "id": "hJ5UUohQYZcd",
        "outputId": "385d843f-f636-4bb1-e576-9658053c22f0"
      },
      "execution_count": null,
      "outputs": [
        {
          "output_type": "stream",
          "name": "stdout",
          "text": [
            "[1004, 112.5, 500.4, 200]\n"
          ]
        }
      ]
    },
    {
      "cell_type": "code",
      "source": [
        "#In a single line of code capitalize the first character of the value strings in a Python dictionary.\n",
        "my_dict = {\"01\": \"ahmad\", \"02\": \"khalid\", \"03\": \"lama\"}\n",
        "capitalized_dict = {k: my_dict[k].capitalize() for c, k in enumerate(my_dict)}\n",
        "print(capitalized_dict)"
      ],
      "metadata": {
        "colab": {
          "base_uri": "https://localhost:8080/"
        },
        "id": "RQZc9b7SZ6z_",
        "outputId": "be96d0c3-bb52-499a-9555-7ebf1f2105b0"
      },
      "execution_count": null,
      "outputs": [
        {
          "output_type": "stream",
          "name": "stdout",
          "text": [
            "{'01': 'Ahmad', '02': 'Khalid', '03': 'Lama'}\n"
          ]
        }
      ]
    },
    {
      "cell_type": "markdown",
      "metadata": {
        "id": "slcpWFacw3EQ"
      },
      "source": [
        "\n",
        "# Set\n",
        "\n",
        "\n",
        "## Sets\n",
        "\n",
        "Sets are an unordered collection of *unique* elements. We can construct them by using the set() function. Let's go ahead and make a set to see how it works"
      ]
    },
    {
      "cell_type": "code",
      "execution_count": null,
      "metadata": {
        "id": "cUVw6bD0w3ER"
      },
      "outputs": [],
      "source": [
        "x = set() # set empty"
      ]
    },
    {
      "cell_type": "code",
      "execution_count": null,
      "metadata": {
        "id": "lza5RP_Aw3ER"
      },
      "outputs": [],
      "source": [
        "x.add(3) # x = {3}"
      ]
    },
    {
      "cell_type": "code",
      "execution_count": null,
      "metadata": {
        "id": "YO9BQ2pVw3ER",
        "outputId": "67ba9b05-6c23-455c-93a5-cffcb6b88580",
        "colab": {
          "base_uri": "https://localhost:8080/"
        }
      },
      "outputs": [
        {
          "output_type": "execute_result",
          "data": {
            "text/plain": [
              "{3, 'AI'}"
            ]
          },
          "metadata": {},
          "execution_count": 17
        }
      ],
      "source": [
        "x.add(\"AI\")\n",
        "x.add(3)\n",
        "x"
      ]
    },
    {
      "cell_type": "markdown",
      "metadata": {
        "id": "blRRYiTWw3ES"
      },
      "source": [
        "We know that a set has only unique entries. So what happens when we try to add something that is already in a set?"
      ]
    },
    {
      "cell_type": "code",
      "execution_count": null,
      "metadata": {
        "id": "eLl_qixAw3ES"
      },
      "outputs": [],
      "source": [
        "# Add a different element\n",
        "x.add(2)\n",
        "x.add('String')"
      ]
    },
    {
      "cell_type": "code",
      "execution_count": null,
      "metadata": {
        "id": "8bdyKnpTw3ES",
        "outputId": "73a9d008-9425-4d8f-a7b0-ef0be095cac4"
      },
      "outputs": [
        {
          "data": {
            "text/plain": [
              "{2, 3, 'adle'}"
            ]
          },
          "execution_count": 21,
          "metadata": {},
          "output_type": "execute_result"
        }
      ],
      "source": [
        "x"
      ]
    },
    {
      "cell_type": "code",
      "execution_count": null,
      "metadata": {
        "id": "HLTRdHI9w3ET",
        "outputId": "6929257c-c884-48e8-f8df-ac1a6a8f4c9c"
      },
      "outputs": [
        {
          "name": "stdout",
          "output_type": "stream",
          "text": [
            "{'adle', 2, 3}\n"
          ]
        }
      ],
      "source": [
        "x.add(2)\n",
        "print(x)"
      ]
    },
    {
      "cell_type": "code",
      "source": [
        "li = [1,2,2,3,3,4,5,6,6,6]\n",
        "unique_list = set(li) # 1, 2, 3\n",
        "print(unique_list)\n",
        "print(type(unique_list))\n",
        "to_list = list(unique_list) #list(Varaiable)\n",
        "print(to_list)\n",
        "print(type(to_list))"
      ],
      "metadata": {
        "colab": {
          "base_uri": "https://localhost:8080/"
        },
        "id": "n-LUc1Ilf0dr",
        "outputId": "8231d9d9-f5a3-42ac-a1b6-6f2717f9679d"
      },
      "execution_count": null,
      "outputs": [
        {
          "output_type": "stream",
          "name": "stdout",
          "text": [
            "{1, 2, 3, 4, 5, 6}\n",
            "<class 'set'>\n",
            "[1, 2, 3, 4, 5, 6]\n",
            "<class 'list'>\n"
          ]
        }
      ]
    },
    {
      "cell_type": "markdown",
      "metadata": {
        "id": "IvGnOskUw3ET"
      },
      "source": [
        "## unpacking\n",
        "All containers can be unpacked as follows:"
      ]
    },
    {
      "cell_type": "code",
      "execution_count": null,
      "metadata": {
        "id": "uxnMWJQJw3ET",
        "outputId": "537aae27-7a5e-4964-c6d9-94749259d905",
        "colab": {
          "base_uri": "https://localhost:8080/"
        }
      },
      "outputs": [
        {
          "output_type": "stream",
          "name": "stdout",
          "text": [
            "3 1 2\n",
            "3 2 1\n",
            "1 2 3\n",
            "c b a\n",
            "c b a\n",
            "3 2 1\n"
          ]
        }
      ],
      "source": [
        "t = (3, 2, 1)\n",
        "a, c, b= t  # unpacks the tuple t; prints \"3 2 1\"\n",
        "print(a, b, c) #3 1 2\n",
        "\n",
        "l = [3, 2, 1]\n",
        "a, b, c = l  # unpacks the list l; prints \"3 2 1\"\n",
        "print(a, b, c)\n",
        "\n",
        "s = {3, 2, 1}\n",
        "a, b, c = s  # unpacks the set s; prints \"1 2 3\" (set ordering)\n",
        "print(a, b, c)\n",
        "\n",
        "d = {'c': 3, 'b': 2, 'a': 1}\n",
        "a, b, c = d  # unpacks the keys of the dict d; prints \"c b a\"\n",
        "print(a, b, c)\n",
        "ak, bk, ck = d.keys()  # unpacks the keys of the dict d; prints \"c b a\"\n",
        "print(ak, bk, ck)\n",
        "a, b, c = d.values()  # unpacks the values of the dict d; prints \"3 2 1\"\n",
        "print(a, b, c)"
      ]
    },
    {
      "cell_type": "code",
      "source": [
        "numbers = [1, 2, 3, 4, 5, 6]\n",
        "\n",
        "# The left side of unpacking should be list or tuple.\n",
        "*a, = numbers\n",
        "# a = [1, 2, 3, 4, 5, 6]\n",
        "\n",
        "*a, b, c = numbers\n",
        "# a = [1, 2, 3, 4, 5]\n",
        "# b = 6\n",
        "\n",
        "a, *b = numbers\n",
        "# a = 1\n",
        "# b = [2, 3, 4, 5, 6]\n",
        "\n",
        "a, *b, c = numbers\n",
        "# a = 1\n",
        "# b = [2, 3, 4, 5]\n",
        "# c = 6"
      ],
      "metadata": {
        "id": "ditm_3B7fkLZ"
      },
      "execution_count": null,
      "outputs": []
    },
    {
      "cell_type": "markdown",
      "metadata": {
        "id": "tHiV6dZvpHtz"
      },
      "source": [
        "# Functions\n",
        "\n",
        "Python functions are defined using the `def` keyword. For example:"
      ]
    },
    {
      "cell_type": "code",
      "source": [
        "def sign(x): # if it's positive return 'Positive'\n",
        "  if x>0:\n",
        "    return 'Positive'\n",
        "  elif   x<0:\n",
        "    return \"Negitive\"\n",
        "  else:\n",
        "    return \"Zero\""
      ],
      "metadata": {
        "id": "GXhmQ0zK9pIW"
      },
      "execution_count": null,
      "outputs": []
    },
    {
      "cell_type": "code",
      "metadata": {
        "id": "jQvQx-VKpHt0"
      },
      "source": [
        "def sign(x):\n",
        "    if x > 0:\n",
        "        return 'positive'\n",
        "    elif x < 0:\n",
        "        return 'negative'\n",
        "    else:\n",
        "        return 'zero'"
      ],
      "execution_count": null,
      "outputs": []
    },
    {
      "cell_type": "code",
      "metadata": {
        "id": "u-4IN8KwpHt0",
        "outputId": "befb734e-2447-49eb-d08b-0cd5a2fdce02",
        "colab": {
          "base_uri": "https://localhost:8080/"
        }
      },
      "source": [
        "for x in [-1, 0, 1]: #x=-1\n",
        "    print(sign(x))\n",
        "# Prints \"negative\", \"zero\", \"positive\""
      ],
      "execution_count": null,
      "outputs": [
        {
          "output_type": "stream",
          "name": "stdout",
          "text": [
            "negative\n",
            "zero\n",
            "positive\n"
          ]
        }
      ]
    },
    {
      "cell_type": "code",
      "metadata": {
        "id": "03Gqk9mfpHt0",
        "outputId": "31882359-14f7-422e-ffa3-00ddab7276a9",
        "colab": {
          "base_uri": "https://localhost:8080/"
        }
      },
      "source": [
        "def hello(name, loud=False):\n",
        "    if loud: #loud == TRue\n",
        "        print('HELLO, {}!'.format(name.upper()))\n",
        "    else:\n",
        "        print('Hello,', name)\n",
        "\n",
        "hello(\"Bob\") # Prints \"Hello, Bob\" loud = false\n",
        "hello('Fred', loud=True)  # Prints \"HELLO, FRED!\""
      ],
      "execution_count": null,
      "outputs": [
        {
          "output_type": "stream",
          "name": "stdout",
          "text": [
            "Hello, Default\n",
            "HELLO, FRED!\n"
          ]
        }
      ]
    },
    {
      "cell_type": "code",
      "metadata": {
        "id": "6rUpdcFXpHt1"
      },
      "source": [
        "def ell_2_norm(a,b):\n",
        "    y = (a**2 + b**2)**(0.5)\n",
        "    return y"
      ],
      "execution_count": null,
      "outputs": []
    },
    {
      "cell_type": "code",
      "metadata": {
        "id": "J4Zo8vsqpHt1",
        "outputId": "7f9f6352-a8b3-4340-a042-29431afa630b",
        "colab": {
          "base_uri": "https://localhost:8080/"
        }
      },
      "source": [
        "ell_2_norm(1,3)"
      ],
      "execution_count": null,
      "outputs": [
        {
          "output_type": "execute_result",
          "data": {
            "text/plain": [
              "3.1622776601683795"
            ]
          },
          "metadata": {},
          "execution_count": 17
        }
      ]
    },
    {
      "cell_type": "code",
      "source": [],
      "metadata": {
        "id": "4aWO4e1IhoJx"
      },
      "execution_count": null,
      "outputs": []
    },
    {
      "cell_type": "markdown",
      "metadata": {
        "id": "6x8LWELVGdja"
      },
      "source": [
        "# Numpy\n",
        "\n",
        "[Numpy](http://www.numpy.org/) is the core library for scientific computing in Python. It provides a high-performance multidimensional array object, and tools for working with these arrays. Check out [this visual tutorial](http://jalammar.github.io/visual-numpy/)."
      ]
    },
    {
      "cell_type": "code",
      "source": [
        "import numpy as np"
      ],
      "metadata": {
        "id": "bLD8H4cbjgdj"
      },
      "execution_count": null,
      "outputs": []
    },
    {
      "cell_type": "code",
      "source": [
        "list1 = [1,2,3] #.max\n",
        "max=0\n",
        "for element in list1:\n",
        "  if element > max :\n",
        "    max = element\n",
        "print(max)"
      ],
      "metadata": {
        "colab": {
          "base_uri": "https://localhost:8080/"
        },
        "id": "5WnEYpEOAAAI",
        "outputId": "2d967e86-d036-4fba-9c61-04b59ea3712b"
      },
      "execution_count": null,
      "outputs": [
        {
          "output_type": "stream",
          "name": "stdout",
          "text": [
            "3\n"
          ]
        }
      ]
    },
    {
      "cell_type": "markdown",
      "metadata": {
        "id": "qCRO45TTHLEK"
      },
      "source": [
        "## Arrays\n",
        "A numpy array is a grid of values, **all of the same type**, and is indexed by a tuple of nonnegative integers.\n",
        "The number of dimensions is the rank of the array;  the shape of an array is a tuple of integers giving the size of the array along each dimension."
      ]
    },
    {
      "cell_type": "code",
      "source": [
        "x = [1,2,3,4,5]\n",
        "x_np = np.array(x)\n",
        "\n",
        "print(type(x))\n",
        "print(type(x_np))"
      ],
      "metadata": {
        "id": "Dfp4cVCP-iFS",
        "colab": {
          "base_uri": "https://localhost:8080/"
        },
        "outputId": "8e6d99de-6d9c-4955-9e91-58b9b01cc37d"
      },
      "execution_count": null,
      "outputs": [
        {
          "output_type": "stream",
          "name": "stdout",
          "text": [
            "<class 'list'>\n",
            "<class 'numpy.ndarray'>\n"
          ]
        }
      ]
    },
    {
      "cell_type": "code",
      "metadata": {
        "id": "iZkw-n3UHkfU",
        "colab": {
          "base_uri": "https://localhost:8080/"
        },
        "outputId": "90829410-8815-4c71-cccf-da2895399ad4"
      },
      "source": [
        "a = np.array([1, 2, 3])   # Create a rank 1 array\n",
        "print(a+3)"
      ],
      "execution_count": null,
      "outputs": [
        {
          "output_type": "stream",
          "name": "stdout",
          "text": [
            "[4 5 6]\n"
          ]
        }
      ]
    },
    {
      "cell_type": "code",
      "metadata": {
        "id": "gBy_RTaopSu1"
      },
      "source": [
        "print(type(a))            # Prints \"<class 'numpy.ndarray'>\""
      ],
      "execution_count": null,
      "outputs": []
    },
    {
      "cell_type": "code",
      "metadata": {
        "id": "MLcp54SjpSu2",
        "colab": {
          "base_uri": "https://localhost:8080/"
        },
        "outputId": "60e5a249-b2a6-486b-da09-e39ae77a74ea"
      },
      "source": [
        "print(a.shape)            # Prints \"(3,)\""
      ],
      "execution_count": null,
      "outputs": [
        {
          "output_type": "stream",
          "name": "stdout",
          "text": [
            "(3,)\n"
          ]
        }
      ]
    },
    {
      "cell_type": "code",
      "source": [
        "print(a)"
      ],
      "metadata": {
        "id": "W6avVk3X_yfu",
        "colab": {
          "base_uri": "https://localhost:8080/"
        },
        "outputId": "f733336d-6e83-4edb-a54d-8f354d49e73d"
      },
      "execution_count": null,
      "outputs": [
        {
          "output_type": "stream",
          "name": "stdout",
          "text": [
            "[1 2 3]\n"
          ]
        }
      ]
    },
    {
      "cell_type": "code",
      "metadata": {
        "id": "-7oka3jRpSu5",
        "colab": {
          "base_uri": "https://localhost:8080/"
        },
        "outputId": "b205715c-abd7-4c39-8836-4bd0a0fc5156"
      },
      "source": [
        "print(a[0], a[1], a[2])   # Prints \"1 2 3\""
      ],
      "execution_count": null,
      "outputs": [
        {
          "output_type": "stream",
          "name": "stdout",
          "text": [
            "1 2 3\n"
          ]
        }
      ]
    },
    {
      "cell_type": "code",
      "metadata": {
        "id": "4yABODZfpSu5"
      },
      "source": [
        "a[0] = 5                  # Change an element of the array"
      ],
      "execution_count": null,
      "outputs": []
    },
    {
      "cell_type": "code",
      "metadata": {
        "id": "pqtbd728pSu6",
        "colab": {
          "base_uri": "https://localhost:8080/"
        },
        "outputId": "cfaa7034-e45f-4bbf-e46a-1c21865a929f"
      },
      "source": [
        "print(a)                  # Prints \"[5, 2, 3]\""
      ],
      "execution_count": null,
      "outputs": [
        {
          "output_type": "stream",
          "name": "stdout",
          "text": [
            "[5 2 3]\n"
          ]
        }
      ]
    },
    {
      "cell_type": "code",
      "metadata": {
        "id": "z2zAqQgBpSu6"
      },
      "source": [
        "b = np.array([[1,2,3],[4,5,6]])    # Create a rank 2 array"
      ],
      "execution_count": null,
      "outputs": []
    },
    {
      "cell_type": "code",
      "metadata": {
        "id": "0-I698hJpSu7",
        "colab": {
          "base_uri": "https://localhost:8080/"
        },
        "outputId": "80dfbbb8-f6cc-489e-ded3-9a55d370c1cd"
      },
      "source": [
        "print(b)"
      ],
      "execution_count": null,
      "outputs": [
        {
          "output_type": "stream",
          "name": "stdout",
          "text": [
            "[[1 2 3]\n",
            " [4 5 6]]\n"
          ]
        }
      ]
    },
    {
      "cell_type": "code",
      "metadata": {
        "id": "xFxjP72YpSu7",
        "colab": {
          "base_uri": "https://localhost:8080/"
        },
        "outputId": "a16d4032-dde7-4e1c-b2a2-d525db4ec022"
      },
      "source": [
        "print(b.shape)                     # Prints \"(2, 3)\""
      ],
      "execution_count": null,
      "outputs": [
        {
          "output_type": "stream",
          "name": "stdout",
          "text": [
            "(2, 3)\n"
          ]
        }
      ]
    },
    {
      "cell_type": "code",
      "metadata": {
        "id": "9m6-maWTpSu8",
        "colab": {
          "base_uri": "https://localhost:8080/"
        },
        "outputId": "9f820a66-257b-4394-f050-2b2cb2e2fd0e"
      },
      "source": [
        "print(b[0, 0], b[0, 1], b[1, 0])   # Prints \"1 2 4\""
      ],
      "execution_count": null,
      "outputs": [
        {
          "output_type": "stream",
          "name": "stdout",
          "text": [
            "1 2 4\n"
          ]
        }
      ]
    },
    {
      "cell_type": "code",
      "source": [
        "x = np.array([[1,2,3],[4,5,6],[7,8,9]])\n",
        "print(x)"
      ],
      "metadata": {
        "id": "S4ADqb6uAGsv",
        "colab": {
          "base_uri": "https://localhost:8080/"
        },
        "outputId": "5d2cbc82-174d-4930-8484-2a8d44eca360"
      },
      "execution_count": null,
      "outputs": [
        {
          "output_type": "stream",
          "name": "stdout",
          "text": [
            "[[1 2 3]\n",
            " [4 5 6]\n",
            " [7 8 9]]\n"
          ]
        }
      ]
    },
    {
      "cell_type": "code",
      "source": [
        "print(x[1,-1])"
      ],
      "metadata": {
        "id": "zQUCajQ7ATSO",
        "colab": {
          "base_uri": "https://localhost:8080/"
        },
        "outputId": "34e33b58-2cfc-4d79-e1dc-c837159d445c"
      },
      "execution_count": null,
      "outputs": [
        {
          "output_type": "stream",
          "name": "stdout",
          "text": [
            "6\n"
          ]
        }
      ]
    },
    {
      "cell_type": "markdown",
      "metadata": {
        "id": "A5mduoKOHLXJ"
      },
      "source": [
        "Numpy also provides many functions to create arrays:\n"
      ]
    },
    {
      "cell_type": "code",
      "metadata": {
        "id": "ENpH_xKgJvsN"
      },
      "source": [
        "a = np.zeros((2,2))   # Create an array of all zeros\n",
        "print(a)              # Prints \"[[ 0.  0.]\n",
        "                      #          [ 0.  0.]]\"\n",
        "\n",
        "b = np.ones((1,2))    # Create an array of all ones\n",
        "print(b)              # Prints \"[[ 1.  1.]]\"\n",
        "\n",
        "c = np.full((2,2), 7)  # Create a constant array\n",
        "print(c)               # Prints \"[[ 7.  7.]\n",
        "                       #          [ 7.  7.]]\"\n",
        "\n",
        "d = np.eye(2)         # Create a 2x2 identity matrix\n",
        "print(d)              # Prints \"[[ 1.  0.]\n",
        "                      #          [ 0.  1.]]\"\n",
        "\n",
        "e = np.random.random((2,2))  # Create an array filled with random values\n",
        "print(e)                     # Might print \"[[ 0.42  0.42]\n",
        "                             #               [ 0.42  0.42]]\""
      ],
      "execution_count": null,
      "outputs": []
    },
    {
      "cell_type": "code",
      "metadata": {
        "id": "BIDDmnEUpSu9",
        "colab": {
          "base_uri": "https://localhost:8080/"
        },
        "outputId": "70298eb3-768f-4e6b-8697-9b7acfe3b811"
      },
      "source": [
        "f = np.arange(5)  # Create an array with the values from 0 to 4\n",
        "print(f)          # Prints \"[0 1 2 3 4]\"\n",
        "\n",
        "g = np.arange(4.2, 7.1, 0.5)  # Create an array with the values from 4.2 to\n",
        "                              # 7.1 on steps of 0.5\n",
        "print(g)                      # Prints \"[4.2 4.7 5.2 5.7 6.2 6.7]\"\n",
        "\n",
        "h = np.linspace(10, 20, 5)  # Create an array with 5 equally spaced values\n",
        "                            # between 10 and 20\n",
        "print(h)                    # Prints \"[[10. 12.5 15. 17.5 20.]\""
      ],
      "execution_count": null,
      "outputs": [
        {
          "output_type": "stream",
          "name": "stdout",
          "text": [
            "[0 1 2 3 4]\n",
            "[4.2 4.7 5.2 5.7 6.2 6.7]\n",
            "[10.  12.5 15.  17.5 20. ]\n"
          ]
        }
      ]
    },
    {
      "cell_type": "markdown",
      "metadata": {
        "id": "mkWAEUBTHLVJ"
      },
      "source": [
        "We can initialize numpy arrays from nested Python lists, and access elements using square brackets:"
      ]
    },
    {
      "cell_type": "code",
      "source": [
        "x= np.array([ [ [ [1] ],[ [2] ],[ [3] ] ] ]) # 1,3,1,1\n",
        "\n",
        "z = np.array([[[[1],[2]],[[3],[4]]], [[[1],[2]],[[3],[4]]]])\n",
        "print(z.shape)"
      ],
      "metadata": {
        "id": "SLLUGzyLAKxT",
        "colab": {
          "base_uri": "https://localhost:8080/"
        },
        "outputId": "1bfc099a-1533-4d88-f197-811aa031b777"
      },
      "execution_count": null,
      "outputs": [
        {
          "output_type": "stream",
          "name": "stdout",
          "text": [
            "(2, 2, 2, 1)\n"
          ]
        }
      ]
    },
    {
      "cell_type": "code",
      "source": [
        "x = np.ones((2,3))\n",
        "print(x)\n",
        "\n",
        "\n",
        "x = np.zeros((2,3))\n",
        "print(x)\n",
        "\n",
        "\n",
        "x = np.random.rand(2,3)\n",
        "print(x)\n",
        "\n",
        "\n",
        "x = np.random.randn(2,3)\n",
        "print(x)\n",
        "\n",
        "\n",
        "x = np.diag([2,3, 4]) #diagonal matrix\n",
        "print(x)\n",
        "\n",
        "\n",
        "x = np.eye(3) #identity matrix\n",
        "print(x)"
      ],
      "metadata": {
        "id": "4R1tJynEAKvf",
        "colab": {
          "base_uri": "https://localhost:8080/"
        },
        "outputId": "f907fd26-2a40-43c1-e6a2-ba9c9b49b641"
      },
      "execution_count": null,
      "outputs": [
        {
          "output_type": "stream",
          "name": "stdout",
          "text": [
            "[[1. 1. 1.]\n",
            " [1. 1. 1.]]\n",
            "[[0. 0. 0.]\n",
            " [0. 0. 0.]]\n",
            "[[0.40672266 0.85444109 0.74653285]\n",
            " [0.01710539 0.00693572 0.56740977]]\n",
            "[[-0.99493309  1.05285724 -0.1404703 ]\n",
            " [ 1.1401348   1.21413982 -0.70244867]]\n",
            "[[2 0 0]\n",
            " [0 3 0]\n",
            " [0 0 4]]\n",
            "[[1. 0. 0.]\n",
            " [0. 1. 0.]\n",
            " [0. 0. 1.]]\n"
          ]
        }
      ]
    },
    {
      "cell_type": "code",
      "source": [
        "x = np.array([[1], [2]])\n",
        "y = np.array([[3,4]])\n",
        "print(x+y)"
      ],
      "metadata": {
        "id": "QFPYmRJgAKY0",
        "colab": {
          "base_uri": "https://localhost:8080/"
        },
        "outputId": "240acc41-fbdf-4365-9190-1456103e8ba6"
      },
      "execution_count": null,
      "outputs": [
        {
          "output_type": "stream",
          "name": "stdout",
          "text": [
            "[[4 5]\n",
            " [5 6]]\n"
          ]
        }
      ]
    },
    {
      "cell_type": "markdown",
      "source": [
        "x is a 2x1 array (2 rows and 1 column).\n",
        "\n",
        "y is a 1x2 array (1 row and 2 columns).\n",
        "\n",
        "NumPy will broadcast these arrays to make them compatible for element-wise addition. In this case, it will expand both arrays so that they have the same shape. Here's what happens:\n",
        "\n",
        "x gets broadcasted to a 2x2 array by repeating its column values:\n",
        "\n",
        "[[1 1]\n",
        "\n",
        "  [2 2]]\n",
        "\n",
        "\n",
        "y gets broadcasted to a 2x2 array by repeating its row values:\n",
        "\n",
        "[[3 4]\n",
        "\n",
        "  [3 4]]"
      ],
      "metadata": {
        "id": "D9kTHf63mvOF"
      }
    },
    {
      "cell_type": "code",
      "source": [
        "x= np.random.randint(0,9, (4,3))\n",
        "print(x)"
      ],
      "metadata": {
        "id": "roNR2Z-RHKUx",
        "colab": {
          "base_uri": "https://localhost:8080/"
        },
        "outputId": "93e6e4ae-c24c-4358-9964-492a3acddaf3"
      },
      "execution_count": null,
      "outputs": [
        {
          "output_type": "stream",
          "name": "stdout",
          "text": [
            "[[7 8 2]\n",
            " [5 4 5]\n",
            " [4 4 5]\n",
            " [3 3 1]]\n"
          ]
        }
      ]
    },
    {
      "cell_type": "code",
      "source": [
        "y = np.reshape(x, (6, 2))\n",
        "print(y.shape)"
      ],
      "metadata": {
        "id": "OmzJfeAxHKOB",
        "colab": {
          "base_uri": "https://localhost:8080/"
        },
        "outputId": "29f75df6-b931-46fb-d790-a781dc6f4370"
      },
      "execution_count": null,
      "outputs": [
        {
          "output_type": "stream",
          "name": "stdout",
          "text": [
            "(6, 2)\n"
          ]
        }
      ]
    },
    {
      "cell_type": "code",
      "source": [
        "print(x)\n",
        "print(y)"
      ],
      "metadata": {
        "id": "grhnHlZxHKLc",
        "colab": {
          "base_uri": "https://localhost:8080/"
        },
        "outputId": "a04bf841-52e0-44cb-bbb4-95db6dd2fae6"
      },
      "execution_count": null,
      "outputs": [
        {
          "output_type": "stream",
          "name": "stdout",
          "text": [
            "[[7 8 2]\n",
            " [5 4 5]\n",
            " [4 4 5]\n",
            " [3 3 1]]\n",
            "[[7 8]\n",
            " [2 5]\n",
            " [4 5]\n",
            " [4 4]\n",
            " [5 3]\n",
            " [3 1]]\n"
          ]
        }
      ]
    }
  ]
}