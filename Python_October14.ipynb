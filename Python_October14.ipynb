{
  "nbformat": 4,
  "nbformat_minor": 0,
  "metadata": {
    "colab": {
      "provenance": []
    },
    "kernelspec": {
      "name": "python3",
      "display_name": "Python 3"
    },
    "language_info": {
      "name": "python"
    }
  },
  "cells": [
    {
      "cell_type": "markdown",
      "source": [
        "Google colab Notebook"
      ],
      "metadata": {
        "id": "uzfJuwjl7Brp"
      }
    },
    {
      "cell_type": "code",
      "source": [
        "\"Hello AI Heroes. I'm Shahad Albalawi, hope you find this notebook helpful and enjoyable\""
      ],
      "metadata": {
        "colab": {
          "base_uri": "https://localhost:8080/",
          "height": 35
        },
        "id": "wdyEJVtp7F1G",
        "outputId": "decfe115-bb9d-4d09-98ef-5a194336e1cc"
      },
      "execution_count": 99,
      "outputs": [
        {
          "output_type": "execute_result",
          "data": {
            "text/plain": [
              "\"Hello AI Heroes. I'm Shahad Albalawi, hope you find this notebook helpful and enjoyable\""
            ],
            "application/vnd.google.colaboratory.intrinsic+json": {
              "type": "string"
            }
          },
          "metadata": {},
          "execution_count": 99
        }
      ]
    },
    {
      "cell_type": "code",
      "source": [
        "# Note !\n",
        "'Hi'\n",
        "'enjoy!'"
      ],
      "metadata": {
        "colab": {
          "base_uri": "https://localhost:8080/",
          "height": 35
        },
        "id": "VZu3D34Fhi4R",
        "outputId": "9de8c504-c627-485c-edc0-821467dd0355"
      },
      "execution_count": 140,
      "outputs": [
        {
          "output_type": "execute_result",
          "data": {
            "text/plain": [
              "'enjoy!'"
            ],
            "application/vnd.google.colaboratory.intrinsic+json": {
              "type": "string"
            }
          },
          "metadata": {},
          "execution_count": 140
        }
      ]
    },
    {
      "cell_type": "code",
      "source": [
        "number = 14\n",
        "number"
      ],
      "metadata": {
        "colab": {
          "base_uri": "https://localhost:8080/"
        },
        "id": "oXq-dIl07Peh",
        "outputId": "fe2957e9-25a6-4ba9-9c9e-823dabf3d14b"
      },
      "execution_count": 2,
      "outputs": [
        {
          "output_type": "execute_result",
          "data": {
            "text/plain": [
              "14"
            ]
          },
          "metadata": {},
          "execution_count": 2
        }
      ]
    },
    {
      "cell_type": "code",
      "source": [
        "print(number)"
      ],
      "metadata": {
        "colab": {
          "base_uri": "https://localhost:8080/"
        },
        "id": "As7g-FEW7VHU",
        "outputId": "c615b7b7-be16-4de0-c5a3-b631c2d18371"
      },
      "execution_count": 3,
      "outputs": [
        {
          "output_type": "stream",
          "name": "stdout",
          "text": [
            "14\n"
          ]
        }
      ]
    },
    {
      "cell_type": "markdown",
      "source": [
        "# Data Types"
      ],
      "metadata": {
        "id": "XDYjIKgq63H5"
      }
    },
    {
      "cell_type": "markdown",
      "source": [
        "**Strings in Python**"
      ],
      "metadata": {
        "id": "npQTVKWI7n8H"
      }
    },
    {
      "cell_type": "code",
      "execution_count": 4,
      "metadata": {
        "colab": {
          "base_uri": "https://localhost:8080/"
        },
        "id": "haoq92OS6sXH",
        "outputId": "e9f36bb3-8346-4d42-f24b-db24285f29ba"
      },
      "outputs": [
        {
          "output_type": "stream",
          "name": "stdout",
          "text": [
            "<class 'str'>\n"
          ]
        }
      ],
      "source": [
        "var_str= \"This is String\"\n",
        "print(type(var_str))"
      ]
    },
    {
      "cell_type": "code",
      "source": [
        "# We can use both double and single quotation\n",
        "str1=\"test with double quotes\"\n",
        "str2='test with single quotes'\n",
        "type(str1)\n",
        "type(str2)"
      ],
      "metadata": {
        "id": "O-1ZYfpH8G3E"
      },
      "execution_count": null,
      "outputs": []
    },
    {
      "cell_type": "code",
      "source": [
        "# be aware that\n",
        "str1 = \"She asked \"What are you doing?\"\""
      ],
      "metadata": {
        "colab": {
          "base_uri": "https://localhost:8080/",
          "height": 141
        },
        "id": "xer4rnDh8Tz_",
        "outputId": "9d0f8471-092f-4370-e448-88aab11258eb"
      },
      "execution_count": 6,
      "outputs": [
        {
          "output_type": "error",
          "ename": "SyntaxError",
          "evalue": "ignored",
          "traceback": [
            "\u001b[0;36m  File \u001b[0;32m\"<ipython-input-6-6e28fffe6800>\"\u001b[0;36m, line \u001b[0;32m2\u001b[0m\n\u001b[0;31m    str1 = \"She asked \"What are you doing?\"\"\u001b[0m\n\u001b[0m                       ^\u001b[0m\n\u001b[0;31mSyntaxError\u001b[0m\u001b[0;31m:\u001b[0m invalid syntax\n"
          ]
        }
      ]
    },
    {
      "cell_type": "code",
      "source": [
        "str1 = 'she asked \"What are you doing? \"'\n",
        "print(str1)"
      ],
      "metadata": {
        "colab": {
          "base_uri": "https://localhost:8080/"
        },
        "id": "_wBhhdzt8fwC",
        "outputId": "46ded314-79a5-42b9-fe6c-8d708a576f53"
      },
      "execution_count": 101,
      "outputs": [
        {
          "output_type": "stream",
          "name": "stdout",
          "text": [
            "she asked \"What are you doing? \"\n"
          ]
        }
      ]
    },
    {
      "cell_type": "code",
      "source": [
        "str1 =  \"She asked \\\"What are you doing?\\\"\"\n",
        "print(str1)"
      ],
      "metadata": {
        "colab": {
          "base_uri": "https://localhost:8080/"
        },
        "id": "ikeFfbEjcGXt",
        "outputId": "9e04d203-2333-4efd-c8f6-d232f3040b74"
      },
      "execution_count": 100,
      "outputs": [
        {
          "output_type": "stream",
          "name": "stdout",
          "text": [
            "She asked \"What are you doing?\"\n"
          ]
        }
      ]
    },
    {
      "cell_type": "markdown",
      "source": [
        "**split string**"
      ],
      "metadata": {
        "id": "J98_5BatcB17"
      }
    },
    {
      "cell_type": "code",
      "source": [
        "my_str=\"AI_2023\"\n",
        "name, year = my_str.split(\"_\")\n",
        "print(name)\n",
        "print(year)"
      ],
      "metadata": {
        "colab": {
          "base_uri": "https://localhost:8080/"
        },
        "id": "IwdMfRnmcRgS",
        "outputId": "2f9b641a-85f1-4433-f94b-ffa58f46c1eb"
      },
      "execution_count": 102,
      "outputs": [
        {
          "output_type": "stream",
          "name": "stdout",
          "text": [
            "AI\n",
            "2023\n"
          ]
        }
      ]
    },
    {
      "cell_type": "markdown",
      "source": [
        "**Slicing**"
      ],
      "metadata": {
        "id": "bYduEPuCdVP7"
      }
    },
    {
      "cell_type": "code",
      "source": [
        "str1 = \"This is test\"\n",
        "print(str1[::-1])"
      ],
      "metadata": {
        "colab": {
          "base_uri": "https://localhost:8080/"
        },
        "id": "LXJVARnBdT1Y",
        "outputId": "c6388650-fb74-406a-ebba-ba46250a6fc5"
      },
      "execution_count": 109,
      "outputs": [
        {
          "output_type": "stream",
          "name": "stdout",
          "text": [
            "tset si sihT\n"
          ]
        }
      ]
    },
    {
      "cell_type": "code",
      "source": [
        "print(str1[0:2:]) #start from 0 end with 1"
      ],
      "metadata": {
        "colab": {
          "base_uri": "https://localhost:8080/"
        },
        "id": "wEga1pVeePYF",
        "outputId": "56d1a5b6-53f0-409b-aac2-ed86dba8004b"
      },
      "execution_count": 122,
      "outputs": [
        {
          "output_type": "stream",
          "name": "stdout",
          "text": [
            "Th\n"
          ]
        }
      ]
    },
    {
      "cell_type": "code",
      "source": [
        "str2= 'pop'\n",
        "is_palindrome = str2==str2[::-1]\n",
        "print(is_palindrome)"
      ],
      "metadata": {
        "colab": {
          "base_uri": "https://localhost:8080/"
        },
        "id": "sCxyHbp6dpC6",
        "outputId": "768de986-3fb1-4b78-fcb7-6876cdd1f1c3"
      },
      "execution_count": 113,
      "outputs": [
        {
          "output_type": "stream",
          "name": "stdout",
          "text": [
            "True\n"
          ]
        }
      ]
    },
    {
      "cell_type": "code",
      "source": [
        "s = \"She said What are you doing?\"\n",
        "\n",
        "l = s.split(\" \")\n",
        "print(type(l))\n",
        "l2 = l[::-1]\n",
        "print(l2)\n",
        "s2 = \" \".join(l2)\n",
        "print(s2)"
      ],
      "metadata": {
        "colab": {
          "base_uri": "https://localhost:8080/"
        },
        "id": "lKqBMakFgCaM",
        "outputId": "69803bed-af6f-4fd1-f141-217438fbfbed"
      },
      "execution_count": 138,
      "outputs": [
        {
          "output_type": "stream",
          "name": "stdout",
          "text": [
            "<class 'list'>\n",
            "['doing?', 'you', 'are', 'What', 'said', 'She']\n",
            "doing? you are What said She\n"
          ]
        }
      ]
    },
    {
      "cell_type": "code",
      "source": [
        "test = \"gdocolde nlcukcuk\"\n",
        "result = test[::2]\n",
        "print(result)  # 2 steps"
      ],
      "metadata": {
        "colab": {
          "base_uri": "https://localhost:8080/"
        },
        "id": "30LAnXXjiACG",
        "outputId": "12ea29c4-fa2f-4249-f590-c72709f7bfb7"
      },
      "execution_count": 149,
      "outputs": [
        {
          "output_type": "stream",
          "name": "stdout",
          "text": [
            "good luck\n"
          ]
        }
      ]
    },
    {
      "cell_type": "markdown",
      "source": [
        "**We can utilize of some functions of String class in python**"
      ],
      "metadata": {
        "id": "U5iheVub83qb"
      }
    },
    {
      "cell_type": "code",
      "source": [
        "name=\"john doe\"\n",
        "print(name.title()) # Only the first letter of each word will be capitalized\n",
        "print(name.upper())\n",
        "print(name.lower())"
      ],
      "metadata": {
        "colab": {
          "base_uri": "https://localhost:8080/"
        },
        "id": "tc2YvOtY8yjZ",
        "outputId": "47f4427c-9edb-4b27-81ce-d1a9dd1adb4a"
      },
      "execution_count": 128,
      "outputs": [
        {
          "output_type": "stream",
          "name": "stdout",
          "text": [
            "John Doe\n",
            "JOHN DOE\n",
            "john doe\n"
          ]
        }
      ]
    },
    {
      "cell_type": "code",
      "source": [
        "name = 'Python'\n",
        "len(name)"
      ],
      "metadata": {
        "colab": {
          "base_uri": "https://localhost:8080/"
        },
        "id": "1ZuaE7LiesvV",
        "outputId": "fb7c5f03-c0b1-490c-ac77-ab9ab32a1d76"
      },
      "execution_count": 126,
      "outputs": [
        {
          "output_type": "execute_result",
          "data": {
            "text/plain": [
              "6"
            ]
          },
          "metadata": {},
          "execution_count": 126
        }
      ]
    },
    {
      "cell_type": "code",
      "source": [
        "print(\"This is a test\" + \"to check the + operation for strings\")"
      ],
      "metadata": {
        "colab": {
          "base_uri": "https://localhost:8080/"
        },
        "id": "qE5mTKbX9Ofu",
        "outputId": "00935fab-9cfc-41cf-8ad6-6e1e5215e1c7"
      },
      "execution_count": 10,
      "outputs": [
        {
          "output_type": "stream",
          "name": "stdout",
          "text": [
            "This is a testto check the + operation for strings\n"
          ]
        }
      ]
    },
    {
      "cell_type": "code",
      "source": [
        "#We use f-strings to add strings from string variables\n",
        "str1=\"part 1\"\n",
        "str2=\"part 2\"\n",
        "str3=\"part 3\"\n",
        "cat_str=f\"\\t{str1}\\t{str2}\\t{str3}\\n\"\n",
        "print(cat_str)\n",
        "print(cat_str.rstrip()) #remove whitespace from right\n",
        "print(cat_str.lstrip()) #remove whitespace from left\n",
        "print(cat_str.strip()) #remove whitespaces\n",
        "print(\"What does strip() do? : \"+ str1.strip('part')) #using strip with certain value"
      ],
      "metadata": {
        "colab": {
          "base_uri": "https://localhost:8080/"
        },
        "id": "Ifn6dXGL9vIB",
        "outputId": "26f6884a-5e0e-4d30-d0a9-e9c66c61465c"
      },
      "execution_count": 20,
      "outputs": [
        {
          "output_type": "stream",
          "name": "stdout",
          "text": [
            "\tpart 1\tpart 2\tpart 3\n",
            "\n",
            "\tpart 1\tpart 2\tpart 3\n",
            "part 1\tpart 2\tpart 3\n",
            "\n",
            "part 1\tpart 2\tpart 3\n",
            "What does strip() do? :  1\n"
          ]
        }
      ]
    },
    {
      "cell_type": "code",
      "source": [
        "str1='test'\n",
        "print(str1)\n",
        "print('+'.join(str1))"
      ],
      "metadata": {
        "colab": {
          "base_uri": "https://localhost:8080/"
        },
        "id": "LaVKrOEF97HJ",
        "outputId": "7ea91cef-5f11-49d5-901f-c93687fea50a"
      },
      "execution_count": 22,
      "outputs": [
        {
          "output_type": "stream",
          "name": "stdout",
          "text": [
            "test\n",
            "t+e+s+t\n"
          ]
        }
      ]
    },
    {
      "cell_type": "code",
      "source": [
        "my_list = [\"Apple\" , \"a\" , \"day\", \"keeps\",\"doctors\",\"away\"]\n",
        "my_str = \" \".join(my_list)\n",
        "print(my_str)"
      ],
      "metadata": {
        "colab": {
          "base_uri": "https://localhost:8080/"
        },
        "id": "0R-dFDXMc_Dd",
        "outputId": "ece77613-1a81-4668-a3d0-d1e7c3a68af6"
      },
      "execution_count": 106,
      "outputs": [
        {
          "output_type": "stream",
          "name": "stdout",
          "text": [
            "Apple a day keeps doctors away\n"
          ]
        }
      ]
    },
    {
      "cell_type": "code",
      "source": [
        "print(f\"if the ascii values is between {ord('a')} and {ord('z')} the characater is a small letrter\")\n",
        "print(ord('a'))"
      ],
      "metadata": {
        "colab": {
          "base_uri": "https://localhost:8080/"
        },
        "id": "UsCCVVbLQzx2",
        "outputId": "03a55156-748a-4d2d-8cc1-40fdd7da2c0b"
      },
      "execution_count": 69,
      "outputs": [
        {
          "output_type": "stream",
          "name": "stdout",
          "text": [
            "if the ascii values is between 97 and 122 the characater is a small letrter\n",
            "97\n"
          ]
        }
      ]
    },
    {
      "cell_type": "code",
      "source": [
        "rep_str = \"AI\"\n",
        "print(rep_str *3)"
      ],
      "metadata": {
        "colab": {
          "base_uri": "https://localhost:8080/"
        },
        "id": "hQuB4Sm5fx92",
        "outputId": "a905494c-662e-40c8-a4d3-8b30a7bbbece"
      },
      "execution_count": 131,
      "outputs": [
        {
          "output_type": "stream",
          "name": "stdout",
          "text": [
            "AIAIAI\n"
          ]
        }
      ]
    },
    {
      "cell_type": "code",
      "source": [
        "my_str1 = 'Apple'\n",
        "my_str2 = 'a'\n",
        "'{} {} day keeps doctors away {:.6f}'.format(my_str1, my_str2, 1/3)"
      ],
      "metadata": {
        "colab": {
          "base_uri": "https://localhost:8080/",
          "height": 35
        },
        "id": "H1cH0d-1kd0f",
        "outputId": "e66b2871-0249-42e4-f434-05640bd0409d"
      },
      "execution_count": 155,
      "outputs": [
        {
          "output_type": "execute_result",
          "data": {
            "text/plain": [
              "'Apple a day keeps doctors away 0.333333'"
            ],
            "application/vnd.google.colaboratory.intrinsic+json": {
              "type": "string"
            }
          },
          "metadata": {},
          "execution_count": 155
        }
      ]
    },
    {
      "cell_type": "code",
      "source": [
        "print('The {0} is {1} and {2}!'.format('fox', 'brown', 'quick'))"
      ],
      "metadata": {
        "colab": {
          "base_uri": "https://localhost:8080/"
        },
        "id": "GF4YNodVkzP3",
        "outputId": "f65af06f-5b8d-4652-fe93-9e4430af1f8a"
      },
      "execution_count": 156,
      "outputs": [
        {
          "output_type": "stream",
          "name": "stdout",
          "text": [
            "The fox is brown and quick!\n"
          ]
        }
      ]
    },
    {
      "cell_type": "markdown",
      "source": [
        "**Integers**"
      ],
      "metadata": {
        "id": "SxOCWGk-_EpC"
      }
    },
    {
      "cell_type": "code",
      "source": [
        "x=4\n",
        "y=2\n",
        "print(x+y)#Addition\n",
        "print(x-y)#substraction\n",
        "print(x/y)#divison\n",
        "#we can use // for integer division\n",
        "print(x//y)#divison\n",
        "print(x*y)#Multiplication\n",
        "print(x**y) #exponential\n",
        "print((x*y)*(x+y)/(x**y))"
      ],
      "metadata": {
        "colab": {
          "base_uri": "https://localhost:8080/"
        },
        "id": "PbBA_vjI-9dE",
        "outputId": "8edfc34c-907c-4930-9f61-d44bd4836b28"
      },
      "execution_count": 23,
      "outputs": [
        {
          "output_type": "stream",
          "name": "stdout",
          "text": [
            "6\n",
            "2\n",
            "2.0\n",
            "2\n",
            "8\n",
            "16\n",
            "3.0\n"
          ]
        }
      ]
    },
    {
      "cell_type": "code",
      "source": [
        "x = 3\n",
        "print(type(x)) # Prints \"<class 'int'>\"\n",
        "print(x)       # Prints \"3\"\n",
        "x += 1\n",
        "print(x)  # Prints \"4\"\n",
        "x *= 2\n",
        "print(x)  # Prints \"8\""
      ],
      "metadata": {
        "id": "zXT5vc7-Tm1k"
      },
      "execution_count": null,
      "outputs": []
    },
    {
      "cell_type": "markdown",
      "source": [
        "**FLoat**"
      ],
      "metadata": {
        "id": "sEtOiVYFAap7"
      }
    },
    {
      "cell_type": "code",
      "source": [
        "x=4\n",
        "y=2.0\n",
        "print(x*y) #Output will be in float\n",
        "print(type(y)) # Prints \"<class 'float'>\"\n",
        "print(y, y + 1, y * 2, y ** 2) # Prints \"2.0 3.0 4.0 4.0\""
      ],
      "metadata": {
        "colab": {
          "base_uri": "https://localhost:8080/"
        },
        "id": "yQUwFgPxAOPA",
        "outputId": "e064a123-76cd-4eb3-949c-f3a76f8cae7d"
      },
      "execution_count": 72,
      "outputs": [
        {
          "output_type": "stream",
          "name": "stdout",
          "text": [
            "8.0\n",
            "<class 'float'>\n",
            "2.0 3.0 4.0 4.0\n"
          ]
        }
      ]
    },
    {
      "cell_type": "code",
      "source": [
        "#Interesting feature\n",
        "x=10_1000\n",
        "print(x)"
      ],
      "metadata": {
        "colab": {
          "base_uri": "https://localhost:8080/"
        },
        "id": "COSISaHOAhpk",
        "outputId": "5298c60d-1b86-4b87-c499-0ebbd492440d"
      },
      "execution_count": 25,
      "outputs": [
        {
          "output_type": "stream",
          "name": "stdout",
          "text": [
            "101000\n"
          ]
        }
      ]
    },
    {
      "cell_type": "markdown",
      "source": [
        "$$F = m*9.8 $$"
      ],
      "metadata": {
        "id": "G1kFxBiRRrCu"
      }
    },
    {
      "cell_type": "code",
      "source": [
        "m = 56\n",
        "f= m *9.8\n",
        "print(f)"
      ],
      "metadata": {
        "colab": {
          "base_uri": "https://localhost:8080/"
        },
        "id": "zy6SQYGiS9E6",
        "outputId": "96b23dea-4b43-4d7c-9cef-ebe974eef419"
      },
      "execution_count": 71,
      "outputs": [
        {
          "output_type": "stream",
          "name": "stdout",
          "text": [
            "548.8000000000001\n"
          ]
        }
      ]
    },
    {
      "cell_type": "markdown",
      "source": [
        "**Boolean**"
      ],
      "metadata": {
        "id": "C-rAgNyyT-AX"
      }
    },
    {
      "cell_type": "code",
      "source": [
        "t = True\n",
        "f = False\n",
        "print(type(t)) # Prints \"<class 'bool'>\"\n",
        "print(t and f) # Logical AND; prints \"False\"\n",
        "print(t or f)  # Logical OR; prints \"True\"\n",
        "print(not t)   # Logical NOT; prints \"False\"\n",
        "print(t != f)  # Logical XOR; prints \"True\""
      ],
      "metadata": {
        "colab": {
          "base_uri": "https://localhost:8080/"
        },
        "id": "y-HpNQ_mT9pK",
        "outputId": "8c70b677-7742-4f31-d634-488805842793"
      },
      "execution_count": 73,
      "outputs": [
        {
          "output_type": "stream",
          "name": "stdout",
          "text": [
            "<class 'bool'>\n",
            "False\n",
            "True\n",
            "False\n",
            "True\n"
          ]
        }
      ]
    },
    {
      "cell_type": "code",
      "source": [
        "a = 3\n",
        "b = 5\n",
        "c = 7\n",
        "print(a == a)     # Prints \"True\"\n",
        "print(a != a)     # Prints \"False\"\n",
        "print(a < b)      # Prints \"True\"\n",
        "print(a <= a)     # Prints \"True\"\n",
        "print(a <= b < c) # Prints \"True\"\n",
        "\n",
        "v = a==a\n",
        "print(type(v))"
      ],
      "metadata": {
        "colab": {
          "base_uri": "https://localhost:8080/"
        },
        "id": "5cenAhJ7UQLd",
        "outputId": "b2964641-c2e8-4be1-f6f6-97ec9b2d0643"
      },
      "execution_count": 77,
      "outputs": [
        {
          "output_type": "stream",
          "name": "stdout",
          "text": [
            "True\n",
            "False\n",
            "True\n",
            "True\n",
            "True\n",
            "<class 'bool'>\n"
          ]
        }
      ]
    },
    {
      "cell_type": "code",
      "source": [
        "a = 3\n",
        "b = 5\n",
        "c = 7\n",
        "print((a <= b) and (b < c))"
      ],
      "metadata": {
        "colab": {
          "base_uri": "https://localhost:8080/"
        },
        "id": "UUdb5p9WUXIO",
        "outputId": "334621f0-abca-4980-b5d4-d4e4a3238bd0"
      },
      "execution_count": 75,
      "outputs": [
        {
          "output_type": "stream",
          "name": "stdout",
          "text": [
            "True\n"
          ]
        }
      ]
    },
    {
      "cell_type": "code",
      "source": [
        "x = True\n",
        "y = False\n",
        "\n",
        "print(x | y)\n",
        "print(x & y)"
      ],
      "metadata": {
        "colab": {
          "base_uri": "https://localhost:8080/"
        },
        "id": "XeAXgn4fUeFB",
        "outputId": "38ca63dd-dbf1-4efb-a9fd-a7db59b07f54"
      },
      "execution_count": 81,
      "outputs": [
        {
          "output_type": "stream",
          "name": "stdout",
          "text": [
            "True\n",
            "False\n"
          ]
        }
      ]
    },
    {
      "cell_type": "markdown",
      "source": [
        "# Basic Containers"
      ],
      "metadata": {
        "id": "dfm3SvNXBARj"
      }
    },
    {
      "cell_type": "markdown",
      "source": [
        "![String_example.png](data:image/png;base64,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)"
      ],
      "metadata": {
        "id": "Yg3T1M9gBXYs"
      }
    },
    {
      "cell_type": "markdown",
      "source": [
        "**Strings are a collection of characters**"
      ],
      "metadata": {
        "id": "pUE0s1IsDH_S"
      }
    },
    {
      "cell_type": "code",
      "source": [
        "str1='test'\n",
        "str1[0]\n",
        "str1[1]\n",
        "str1[3]\n",
        "str1[4] #Will produce an error\n",
        "str1[1]='b'#Will produce an error"
      ],
      "metadata": {
        "colab": {
          "base_uri": "https://localhost:8080/",
          "height": 228
        },
        "id": "IW_w7czsBWzr",
        "outputId": "c044afda-d023-45c7-f466-9f7256ebdb41"
      },
      "execution_count": 48,
      "outputs": [
        {
          "output_type": "error",
          "ename": "IndexError",
          "evalue": "ignored",
          "traceback": [
            "\u001b[0;31m---------------------------------------------------------------------------\u001b[0m",
            "\u001b[0;31mIndexError\u001b[0m                                Traceback (most recent call last)",
            "\u001b[0;32m<ipython-input-48-6d31a131d800>\u001b[0m in \u001b[0;36m<cell line: 5>\u001b[0;34m()\u001b[0m\n\u001b[1;32m      3\u001b[0m \u001b[0mstr1\u001b[0m\u001b[0;34m[\u001b[0m\u001b[0;36m1\u001b[0m\u001b[0;34m]\u001b[0m\u001b[0;34m\u001b[0m\u001b[0;34m\u001b[0m\u001b[0m\n\u001b[1;32m      4\u001b[0m \u001b[0mstr1\u001b[0m\u001b[0;34m[\u001b[0m\u001b[0;36m3\u001b[0m\u001b[0;34m]\u001b[0m\u001b[0;34m\u001b[0m\u001b[0;34m\u001b[0m\u001b[0m\n\u001b[0;32m----> 5\u001b[0;31m \u001b[0mstr1\u001b[0m\u001b[0;34m[\u001b[0m\u001b[0;36m4\u001b[0m\u001b[0;34m]\u001b[0m \u001b[0;31m#Will produce an error\u001b[0m\u001b[0;34m\u001b[0m\u001b[0;34m\u001b[0m\u001b[0m\n\u001b[0m\u001b[1;32m      6\u001b[0m \u001b[0mstr1\u001b[0m\u001b[0;34m[\u001b[0m\u001b[0;36m1\u001b[0m\u001b[0;34m]\u001b[0m\u001b[0;34m=\u001b[0m\u001b[0;34m'b'\u001b[0m\u001b[0;31m#Will produce an error\u001b[0m\u001b[0;34m\u001b[0m\u001b[0;34m\u001b[0m\u001b[0m\n",
            "\u001b[0;31mIndexError\u001b[0m: string index out of range"
          ]
        }
      ]
    },
    {
      "cell_type": "code",
      "source": [
        "str1='test'\n",
        "str1[0]"
      ],
      "metadata": {
        "colab": {
          "base_uri": "https://localhost:8080/",
          "height": 35
        },
        "id": "C2zfQHJxDX_Z",
        "outputId": "54f67f8f-9530-4d7f-8ce3-feead9a7ada4"
      },
      "execution_count": 32,
      "outputs": [
        {
          "output_type": "execute_result",
          "data": {
            "text/plain": [
              "'t'"
            ],
            "application/vnd.google.colaboratory.intrinsic+json": {
              "type": "string"
            }
          },
          "metadata": {},
          "execution_count": 32
        }
      ]
    },
    {
      "cell_type": "markdown",
      "source": [
        "**Lists**\n",
        "\n",
        "Lists are the most versatile datatype in Python . A list is defined by comma separating it’s\n",
        "elements within square brackets. *Elements of a list do not need to be of the same datatype*."
      ],
      "metadata": {
        "id": "csWeNFRLDz00"
      }
    },
    {
      "cell_type": "code",
      "source": [
        "my_list=[1,2,3,'a','dog',4.5]\n",
        "my_list"
      ],
      "metadata": {
        "colab": {
          "base_uri": "https://localhost:8080/"
        },
        "id": "2UGIWOXwDeyS",
        "outputId": "3f075c27-62e5-4907-d441-254f1c22d1b4"
      },
      "execution_count": 33,
      "outputs": [
        {
          "output_type": "execute_result",
          "data": {
            "text/plain": [
              "[1, 2, 3, 'a', 'dog', 4.5]"
            ]
          },
          "metadata": {},
          "execution_count": 33
        }
      ]
    },
    {
      "cell_type": "code",
      "source": [
        "#in lists we can delete, modify elements after definition\n",
        "my_list=[1,2,3,'a','dog',4.5]\n",
        "my_list[4]='cat' #modify\n",
        "print(\"Before deleting the first element \\n\"+my_list[3])\n",
        "print(my_list)\n",
        "del my_list[1] #delete\n",
        "print(\"\\nBefore deleting the first element \\n\"+ my_list[3])\n",
        "print(my_list)"
      ],
      "metadata": {
        "colab": {
          "base_uri": "https://localhost:8080/"
        },
        "id": "xjOlcmM_Fdgq",
        "outputId": "ca16f7ac-35d6-433c-ba1f-98feb1c92d9e"
      },
      "execution_count": 35,
      "outputs": [
        {
          "output_type": "stream",
          "name": "stdout",
          "text": [
            "Before deleting the first element \n",
            "a\n",
            "[1, 2, 3, 'a', 'cat', 4.5]\n",
            "\n",
            "Before deleting the first element \n",
            "cat\n",
            "[1, 3, 'a', 'cat', 4.5]\n"
          ]
        }
      ]
    },
    {
      "cell_type": "code",
      "source": [
        "lst1=[1,2,3]\n",
        "lst2=['a','b','c']\n",
        "lst_cat=lst1+lst2\n",
        "print(\"Lists Concatenation: \", lst_cat)\n",
        "lst_rep=lst1*6\n",
        "print(\"List 1 repeated 6 times: \", lst_rep)\n",
        "#to check if an element is a member of a list\n",
        "#we can do x in list, it will return true or false value\n",
        "print(\"is number 3 an element of list 1? \", 3 in lst1) #boolean expression\n",
        "\n",
        "#lists are iteratable objects\n",
        "for x in lst1:\n",
        "  print(x)\n",
        "lst1.append(4)\n",
        "print(lst1)\n",
        "print(\"How many times the element 3 appears in list 1? \",lst1.count(3))"
      ],
      "metadata": {
        "colab": {
          "base_uri": "https://localhost:8080/"
        },
        "id": "CaTFNyb_FuVs",
        "outputId": "9334dd1d-408a-41a3-928f-b2d1bac81d30"
      },
      "execution_count": 159,
      "outputs": [
        {
          "output_type": "stream",
          "name": "stdout",
          "text": [
            "Lists Concatenation:  [1, 2, 3, 'a', 'b', 'c']\n",
            "List 1 repeated 6 times:  [1, 2, 3, 1, 2, 3, 1, 2, 3, 1, 2, 3, 1, 2, 3, 1, 2, 3]\n",
            "is number 3 an element of list 1?  True\n",
            "1\n",
            "2\n",
            "3\n",
            "[1, 2, 3, 4]\n",
            "How many times the element 3 appears in list 1?  1\n"
          ]
        }
      ]
    },
    {
      "cell_type": "code",
      "source": [
        "my_str=\"AI_2023\"\n",
        "lis1 = my_str.split(\"_\")\n",
        "print(lis1)"
      ],
      "metadata": {
        "colab": {
          "base_uri": "https://localhost:8080/"
        },
        "id": "rB9gyqR2cw01",
        "outputId": "cede008e-3191-468c-ebef-94fb339c962b"
      },
      "execution_count": 103,
      "outputs": [
        {
          "output_type": "stream",
          "name": "stdout",
          "text": [
            "['AI', '2023']\n"
          ]
        }
      ]
    },
    {
      "cell_type": "code",
      "source": [
        "name = \"computer scince\"\n",
        "parts = name.title().split(\" \")\n",
        "print(parts)"
      ],
      "metadata": {
        "colab": {
          "base_uri": "https://localhost:8080/"
        },
        "id": "su63bF4mfgIv",
        "outputId": "373ba0af-1539-4cfe-e2fb-70f0b0a4c89c"
      },
      "execution_count": 130,
      "outputs": [
        {
          "output_type": "stream",
          "name": "stdout",
          "text": [
            "['Computer', 'Scince']\n"
          ]
        }
      ]
    },
    {
      "cell_type": "code",
      "source": [
        "x = [0,1,2,3,4,5,6,7,8,9]\n",
        "y = [element**2 for element in x if element%2 ==0 ]\n",
        "print(y)"
      ],
      "metadata": {
        "colab": {
          "base_uri": "https://localhost:8080/"
        },
        "id": "oNglDwC-lIc4",
        "outputId": "354366fa-68ef-4b32-cfe3-b843385f83d0"
      },
      "execution_count": 157,
      "outputs": [
        {
          "output_type": "stream",
          "name": "stdout",
          "text": [
            "[0, 4, 16, 36, 64]\n"
          ]
        }
      ]
    },
    {
      "cell_type": "code",
      "source": [
        "x = [\"AI\", \"2023\"]\n",
        "y = x.copy()\n",
        "y.append(\"xyz\")\n",
        "print(x,y)\n"
      ],
      "metadata": {
        "colab": {
          "base_uri": "https://localhost:8080/"
        },
        "id": "lmEZpHOjlhkW",
        "outputId": "227b30b8-a18b-4a54-8900-847da130d000"
      },
      "execution_count": 160,
      "outputs": [
        {
          "output_type": "stream",
          "name": "stdout",
          "text": [
            "['AI', '2023'] ['AI', '2023', 'xyz']\n"
          ]
        }
      ]
    },
    {
      "cell_type": "code",
      "source": [
        "x.extend(y) #append the list y to x\n",
        "print(x)"
      ],
      "metadata": {
        "colab": {
          "base_uri": "https://localhost:8080/"
        },
        "id": "osYoxTpWlnWP",
        "outputId": "b8a7a423-4969-45b0-e08b-227fe868db01"
      },
      "execution_count": 161,
      "outputs": [
        {
          "output_type": "stream",
          "name": "stdout",
          "text": [
            "['AI', '2023', 'AI', '2023', 'xyz']\n"
          ]
        }
      ]
    },
    {
      "cell_type": "code",
      "source": [
        "print(x)\n",
        "x.sort()\n",
        "print(x)"
      ],
      "metadata": {
        "colab": {
          "base_uri": "https://localhost:8080/"
        },
        "id": "PwfLwdEBl4t1",
        "outputId": "36ed4c79-a318-4a5b-d57b-dca123da31d7"
      },
      "execution_count": 162,
      "outputs": [
        {
          "output_type": "stream",
          "name": "stdout",
          "text": [
            "['AI', '2023', 'AI', '2023', 'xyz']\n",
            "['2023', '2023', 'AI', 'AI', 'xyz']\n"
          ]
        }
      ]
    },
    {
      "cell_type": "markdown",
      "source": [
        "**Tuples**\n",
        "\n",
        "Tuple structure is similar to lists with the\n",
        "exception that tuples can not be modified. Tuples can be defined by separating it’s elements\n",
        "by comma, inside parenthesis."
      ],
      "metadata": {
        "id": "aqVHFNuuGj8b"
      }
    },
    {
      "cell_type": "code",
      "source": [
        "my_tuple=(1,2,3,'a','dog',4.5)\n",
        "my_tuple[0]\n",
        "my_tuple[3]=1 #will produce an error, we can't modify tuples"
      ],
      "metadata": {
        "colab": {
          "base_uri": "https://localhost:8080/",
          "height": 211
        },
        "id": "FEh1zQsWGxaC",
        "outputId": "dc967ae8-2559-4698-d584-b29b10a3f78f"
      },
      "execution_count": 46,
      "outputs": [
        {
          "output_type": "error",
          "ename": "TypeError",
          "evalue": "ignored",
          "traceback": [
            "\u001b[0;31m---------------------------------------------------------------------------\u001b[0m",
            "\u001b[0;31mTypeError\u001b[0m                                 Traceback (most recent call last)",
            "\u001b[0;32m<ipython-input-46-2633632dd2f4>\u001b[0m in \u001b[0;36m<cell line: 3>\u001b[0;34m()\u001b[0m\n\u001b[1;32m      1\u001b[0m \u001b[0mmy_tuple\u001b[0m\u001b[0;34m=\u001b[0m\u001b[0;34m(\u001b[0m\u001b[0;36m1\u001b[0m\u001b[0;34m,\u001b[0m\u001b[0;36m2\u001b[0m\u001b[0;34m,\u001b[0m\u001b[0;36m3\u001b[0m\u001b[0;34m,\u001b[0m\u001b[0;34m'a'\u001b[0m\u001b[0;34m,\u001b[0m\u001b[0;34m'dog'\u001b[0m\u001b[0;34m,\u001b[0m\u001b[0;36m4.5\u001b[0m\u001b[0;34m)\u001b[0m\u001b[0;34m\u001b[0m\u001b[0;34m\u001b[0m\u001b[0m\n\u001b[1;32m      2\u001b[0m \u001b[0mmy_tuple\u001b[0m\u001b[0;34m[\u001b[0m\u001b[0;36m0\u001b[0m\u001b[0;34m]\u001b[0m\u001b[0;34m\u001b[0m\u001b[0;34m\u001b[0m\u001b[0m\n\u001b[0;32m----> 3\u001b[0;31m \u001b[0mmy_tuple\u001b[0m\u001b[0;34m[\u001b[0m\u001b[0;36m3\u001b[0m\u001b[0;34m]\u001b[0m\u001b[0;34m=\u001b[0m\u001b[0;36m1\u001b[0m \u001b[0;31m#will produce an error, we can't modify tuples\u001b[0m\u001b[0;34m\u001b[0m\u001b[0;34m\u001b[0m\u001b[0m\n\u001b[0m",
            "\u001b[0;31mTypeError\u001b[0m: 'tuple' object does not support item assignment"
          ]
        }
      ]
    },
    {
      "cell_type": "code",
      "source": [
        "tup1=(1,2,3)\n",
        "tup2=('a','b','c')\n",
        "tup_cat = tup1+tup2\n",
        "tup_rep=tup1*4\n",
        "del(tup_cat)\n",
        "print(tup_cat) # will produce an error\n",
        "len(tup_rep)\n",
        "#to check if an element is a member of a tuple\n",
        "#we can do x in tuple, it will return true or false value\n",
        "print(3 in tup1)\n",
        "#lists are iteratable objects\n",
        "for x in tup1:\n",
        "  print(x)"
      ],
      "metadata": {
        "colab": {
          "base_uri": "https://localhost:8080/",
          "height": 245
        },
        "id": "GtrrdkOAI06K",
        "outputId": "fdeb4d8d-1bad-4492-a793-481ea45b681a"
      },
      "execution_count": 51,
      "outputs": [
        {
          "output_type": "error",
          "ename": "NameError",
          "evalue": "ignored",
          "traceback": [
            "\u001b[0;31m---------------------------------------------------------------------------\u001b[0m",
            "\u001b[0;31mNameError\u001b[0m                                 Traceback (most recent call last)",
            "\u001b[0;32m<ipython-input-51-563e4093f3fe>\u001b[0m in \u001b[0;36m<cell line: 6>\u001b[0;34m()\u001b[0m\n\u001b[1;32m      4\u001b[0m \u001b[0mtup_rep\u001b[0m\u001b[0;34m=\u001b[0m\u001b[0mtup1\u001b[0m\u001b[0;34m*\u001b[0m\u001b[0;36m4\u001b[0m\u001b[0;34m\u001b[0m\u001b[0;34m\u001b[0m\u001b[0m\n\u001b[1;32m      5\u001b[0m \u001b[0;32mdel\u001b[0m\u001b[0;34m(\u001b[0m\u001b[0mtup_cat\u001b[0m\u001b[0;34m)\u001b[0m\u001b[0;34m\u001b[0m\u001b[0;34m\u001b[0m\u001b[0m\n\u001b[0;32m----> 6\u001b[0;31m \u001b[0mprint\u001b[0m\u001b[0;34m(\u001b[0m\u001b[0mtup_cat\u001b[0m\u001b[0;34m)\u001b[0m \u001b[0;31m# will produce an error\u001b[0m\u001b[0;34m\u001b[0m\u001b[0;34m\u001b[0m\u001b[0m\n\u001b[0m\u001b[1;32m      7\u001b[0m \u001b[0mlen\u001b[0m\u001b[0;34m(\u001b[0m\u001b[0mtup_rep\u001b[0m\u001b[0;34m)\u001b[0m\u001b[0;34m\u001b[0m\u001b[0;34m\u001b[0m\u001b[0m\n\u001b[1;32m      8\u001b[0m \u001b[0;31m#to check if an element is a member of a tuple\u001b[0m\u001b[0;34m\u001b[0m\u001b[0;34m\u001b[0m\u001b[0m\n",
            "\u001b[0;31mNameError\u001b[0m: name 'tup_cat' is not defined"
          ]
        }
      ]
    },
    {
      "cell_type": "markdown",
      "source": [
        "**Dictionary**\n",
        "\n",
        "Dictonary object in Python is a collection of elements, where each element has a key and\n",
        "a value. The key is used to access the value. A simple way to understand the concept of\n",
        "dictionaries is to think about real dictionaries, where we can look up the meaning of words.\n",
        "In Python keys correspond to words and the values correspond to meaning of the words.\n",
        "Similar to a dictionary one key can only have one value (like one word has one meaning*).\n",
        "Dictionary are defined with curly brackets."
      ],
      "metadata": {
        "id": "bJpsxpPEJTxy"
      }
    },
    {
      "cell_type": "code",
      "source": [
        "my_dict={'key1':'some value'}\n",
        "my_dict['key2']='test1' #Add new pair\n",
        "my_dict['key3']='test2' #Add new pair\n",
        "print(my_dict)"
      ],
      "metadata": {
        "colab": {
          "base_uri": "https://localhost:8080/"
        },
        "id": "mkIP2WHQJCPr",
        "outputId": "ee230396-d84f-46d9-df31-e1828bff966d"
      },
      "execution_count": 52,
      "outputs": [
        {
          "output_type": "stream",
          "name": "stdout",
          "text": [
            "{'key1': 'some value', 'key2': 'test1', 'key3': 'test2'}\n"
          ]
        }
      ]
    },
    {
      "cell_type": "code",
      "source": [
        "my_dict['key1']"
      ],
      "metadata": {
        "colab": {
          "base_uri": "https://localhost:8080/",
          "height": 35
        },
        "id": "mg8arH8CL0G8",
        "outputId": "bfe75228-187a-44df-845d-241f4fb22d87"
      },
      "execution_count": 53,
      "outputs": [
        {
          "output_type": "execute_result",
          "data": {
            "text/plain": [
              "'some value'"
            ],
            "application/vnd.google.colaboratory.intrinsic+json": {
              "type": "string"
            }
          },
          "metadata": {},
          "execution_count": 53
        }
      ]
    },
    {
      "cell_type": "code",
      "source": [
        "emp_dict = {'011':'Shahad', '012':'khalid', '013':'Lujain'}\n",
        "emp_dict['013'] #Access to value by key"
      ],
      "metadata": {
        "colab": {
          "base_uri": "https://localhost:8080/",
          "height": 35
        },
        "id": "MnU8OtO0L7h_",
        "outputId": "f192af77-9e22-4cd9-b1b8-5473e14d2686"
      },
      "execution_count": 54,
      "outputs": [
        {
          "output_type": "execute_result",
          "data": {
            "text/plain": [
              "'Lujain'"
            ],
            "application/vnd.google.colaboratory.intrinsic+json": {
              "type": "string"
            }
          },
          "metadata": {},
          "execution_count": 54
        }
      ]
    },
    {
      "cell_type": "code",
      "source": [
        "my_dict={'first_name':'N', 'last_name':'K', 'age':'xy'}\n",
        "print(my_dict)\n",
        "my_dict['age']='yy' #Modify\n",
        "print(my_dict['age'])\n",
        "del(my_dict['age']) #delete pair\n",
        "my_dict.clear() #Clear the dictionary, remove all keys and values\n",
        "print(my_dict)\n",
        "my_dict['name']='NK' #Add new element\n",
        "del(my_dict) #Delete the dictionary, Be aware of the difference between del() and clear()\n",
        "print(my_dict)"
      ],
      "metadata": {
        "colab": {
          "base_uri": "https://localhost:8080/"
        },
        "id": "BBLrX1sKMwkl",
        "outputId": "ca7fb171-73fc-421e-f066-1f2981f9257a"
      },
      "execution_count": 61,
      "outputs": [
        {
          "output_type": "stream",
          "name": "stdout",
          "text": [
            "{'first_name': 'N', 'last_name': 'K', 'age': 'xy'}\n",
            "yy\n",
            "{}\n",
            "{'name': 'NK'}\n"
          ]
        }
      ]
    },
    {
      "cell_type": "markdown",
      "source": [
        "# Loops"
      ],
      "metadata": {
        "id": "pQCr_i7lO4HO"
      }
    },
    {
      "cell_type": "markdown",
      "source": [
        "**For Loops**"
      ],
      "metadata": {
        "id": "7vUuCSkeP_r8"
      }
    },
    {
      "cell_type": "code",
      "source": [
        "for i in range(10):\n",
        "  print(i)  # it will be from 0 to 9"
      ],
      "metadata": {
        "colab": {
          "base_uri": "https://localhost:8080/"
        },
        "id": "Yj6Xa0ySO7R8",
        "outputId": "c817d120-fca2-4fa2-c98f-33bf053811a8"
      },
      "execution_count": 63,
      "outputs": [
        {
          "output_type": "stream",
          "name": "stdout",
          "text": [
            "0\n",
            "1\n",
            "2\n",
            "3\n",
            "4\n",
            "5\n",
            "6\n",
            "7\n",
            "8\n",
            "9\n"
          ]
        }
      ]
    },
    {
      "cell_type": "code",
      "source": [
        "for i in range(1,11):\n",
        "  print(i)  # it will be from 1 to 10"
      ],
      "metadata": {
        "colab": {
          "base_uri": "https://localhost:8080/"
        },
        "id": "nMsEVFzvQnKF",
        "outputId": "da7129f9-e2f8-4593-8d32-d2006edd75fa"
      },
      "execution_count": 66,
      "outputs": [
        {
          "output_type": "stream",
          "name": "stdout",
          "text": [
            "1\n",
            "2\n",
            "3\n",
            "4\n",
            "5\n",
            "6\n",
            "7\n",
            "8\n",
            "9\n",
            "10\n"
          ]
        }
      ]
    },
    {
      "cell_type": "code",
      "source": [
        "#Be aware !!\n",
        "for i in range(5):\n",
        "print(\"we are here\") #it's an error!"
      ],
      "metadata": {
        "colab": {
          "base_uri": "https://localhost:8080/",
          "height": 141
        },
        "id": "1OshsiBgQTZB",
        "outputId": "253cecf6-267b-4240-9ab3-5cf8ef442e9f"
      },
      "execution_count": 64,
      "outputs": [
        {
          "output_type": "error",
          "ename": "IndentationError",
          "evalue": "ignored",
          "traceback": [
            "\u001b[0;36m  File \u001b[0;32m\"<ipython-input-64-b7a396d6b03d>\"\u001b[0;36m, line \u001b[0;32m3\u001b[0m\n\u001b[0;31m    print(\"we are here\") #it's an error!\u001b[0m\n\u001b[0m    ^\u001b[0m\n\u001b[0;31mIndentationError\u001b[0m\u001b[0;31m:\u001b[0m expected an indented block after 'for' statement on line 2\n"
          ]
        }
      ]
    },
    {
      "cell_type": "code",
      "source": [
        "for i in range(5):\n",
        "  if i<4:\n",
        "    print(\"I'm less than 4\")\n",
        "\n",
        "  else:\n",
        "    print(\"I'm greater than 4\")"
      ],
      "metadata": {
        "colab": {
          "base_uri": "https://localhost:8080/"
        },
        "id": "4uOQD5eSQDeP",
        "outputId": "6d0d7047-6f11-407a-b577-57f0714fbdb9"
      },
      "execution_count": 65,
      "outputs": [
        {
          "output_type": "stream",
          "name": "stdout",
          "text": [
            "I'm less than 4\n",
            "I'm less than 4\n",
            "I'm less than 4\n",
            "I'm less than 4\n",
            "I'm greater than 4\n"
          ]
        }
      ]
    },
    {
      "cell_type": "code",
      "source": [
        "lst1=[1,2,3]\n",
        "tup1=('a','b','c')\n",
        "dict1={'fn':'N', 'ln':'K'}\n",
        "for element in lst1:\n",
        "  print(element)\n",
        "for element in tup1:\n",
        "  print(element)\n",
        "for key in dict1:\n",
        "  print(key , dict1[key])\n",
        "for c,element in enumerate(lst1):\n",
        "  print(element)\n",
        "for c, element in enumerate(tup1):\n",
        "  print(element)\n",
        "for c, key in enumerate(dict1):\n",
        "  print(c, key , dict1[key])"
      ],
      "metadata": {
        "colab": {
          "base_uri": "https://localhost:8080/"
        },
        "id": "vc-qlMFtQdgu",
        "outputId": "d854efac-77b9-469f-8045-62b2e49b8018"
      },
      "execution_count": 82,
      "outputs": [
        {
          "output_type": "stream",
          "name": "stdout",
          "text": [
            "1\n",
            "2\n",
            "3\n",
            "a\n",
            "b\n",
            "c\n",
            "fn N\n",
            "ln K\n",
            "1\n",
            "2\n",
            "3\n",
            "a\n",
            "b\n",
            "c\n",
            "0 fn N\n",
            "1 ln K\n"
          ]
        }
      ]
    },
    {
      "cell_type": "code",
      "source": [
        "stu_name = ['Ahmad', 'Reem', 'Fatima']\n",
        "for c,name in enumerate(stu_name):\n",
        "  print(c,'\\t', name)"
      ],
      "metadata": {
        "colab": {
          "base_uri": "https://localhost:8080/"
        },
        "id": "Iw2BHuzFVWJe",
        "outputId": "87efafa7-5c34-4f85-a80a-0af001fde8bd"
      },
      "execution_count": 83,
      "outputs": [
        {
          "output_type": "stream",
          "name": "stdout",
          "text": [
            "0 \t Ahmad\n",
            "1 \t Reem\n",
            "2 \t Fatima\n"
          ]
        }
      ]
    },
    {
      "cell_type": "markdown",
      "source": [
        "**While Loop**"
      ],
      "metadata": {
        "id": "B38cvWLRWTXP"
      }
    },
    {
      "cell_type": "code",
      "source": [
        "x=10\n",
        "while (x>1):\n",
        "  print(x)\n",
        "  x=x-1"
      ],
      "metadata": {
        "colab": {
          "base_uri": "https://localhost:8080/"
        },
        "id": "EJ32WZVTWKva",
        "outputId": "eb804b3a-8850-4fcc-ee52-9383f5359423"
      },
      "execution_count": 84,
      "outputs": [
        {
          "output_type": "stream",
          "name": "stdout",
          "text": [
            "10\n",
            "9\n",
            "8\n",
            "7\n",
            "6\n",
            "5\n",
            "4\n",
            "3\n",
            "2\n"
          ]
        }
      ]
    },
    {
      "cell_type": "code",
      "source": [
        "x=10\n",
        "while (x>1):\n",
        "  print(x)\n",
        "  x=x+1 #infinite loop"
      ],
      "metadata": {
        "id": "Y90p7IpEWYqi"
      },
      "execution_count": null,
      "outputs": []
    },
    {
      "cell_type": "markdown",
      "source": [
        "**Else with loops**"
      ],
      "metadata": {
        "id": "8UTYHP05Wnpx"
      }
    },
    {
      "cell_type": "code",
      "source": [
        "for x in range(10):\n",
        "  print(x)\n",
        "else:\n",
        "  print('exited for loop')\n",
        "x=10\n",
        "while (x>1):\n",
        "  print(x)\n",
        "  x=x-1\n",
        "else:\n",
        "  print('x is 1')"
      ],
      "metadata": {
        "colab": {
          "base_uri": "https://localhost:8080/"
        },
        "id": "5P2UpQXHWc8z",
        "outputId": "226738a1-60dd-4aef-d469-6e657e687a5a"
      },
      "execution_count": 86,
      "outputs": [
        {
          "output_type": "stream",
          "name": "stdout",
          "text": [
            "0\n",
            "1\n",
            "2\n",
            "3\n",
            "4\n",
            "5\n",
            "6\n",
            "7\n",
            "8\n",
            "9\n",
            "exited for loop\n",
            "10\n",
            "9\n",
            "8\n",
            "7\n",
            "6\n",
            "5\n",
            "4\n",
            "3\n",
            "2\n",
            "x is 1\n"
          ]
        }
      ]
    },
    {
      "cell_type": "code",
      "source": [
        "x=\"This is test\"\n",
        "\n",
        "if (len(x)>15):\n",
        "  print(\"you are over the limit of 15 characters\")\n",
        "\n",
        "else:\n",
        "  print(\"you are fine\")"
      ],
      "metadata": {
        "colab": {
          "base_uri": "https://localhost:8080/"
        },
        "id": "5VjkJBJSh0ix",
        "outputId": "bfdcbebc-bddf-4e43-f908-bbe74978c213"
      },
      "execution_count": 141,
      "outputs": [
        {
          "output_type": "stream",
          "name": "stdout",
          "text": [
            "you are fine\n"
          ]
        }
      ]
    },
    {
      "cell_type": "markdown",
      "source": [
        "# Conversion"
      ],
      "metadata": {
        "id": "811ofjXeYc0x"
      }
    },
    {
      "cell_type": "code",
      "source": [
        "#to String\n",
        "\n",
        "num = 1432\n",
        "num_str = str(num)\n",
        "print(num_str)\n",
        "\n",
        "#to float\n",
        "num =123\n",
        "str_n = '12354'\n",
        "num_f =float(str_n)\n",
        "num_float = float(num)\n",
        "print(num_f, num_float)\n",
        "\n",
        "#to int\n",
        "str_n = '12354'\n",
        "num_ =int(str_n)\n",
        "\n",
        "print(num_)\n"
      ],
      "metadata": {
        "colab": {
          "base_uri": "https://localhost:8080/"
        },
        "id": "LB1nHGzzYi5u",
        "outputId": "f45c1823-7400-40f5-bf5f-37223a676c26"
      },
      "execution_count": 90,
      "outputs": [
        {
          "output_type": "stream",
          "name": "stdout",
          "text": [
            "1432\n",
            "12354.0 123.0\n",
            "12354\n"
          ]
        }
      ]
    },
    {
      "cell_type": "markdown",
      "source": [
        "# Exercises"
      ],
      "metadata": {
        "id": "RDSMhm0jZMqT"
      }
    },
    {
      "cell_type": "code",
      "source": [
        "#Write a program that asks the user to input, their name, age and occupation and outputs a string, \"[name] is [age] years old and works as a [job].\"\n",
        "name = input(\"Enter your name: \")\n",
        "age = input(\"Enter your age: \")\n",
        "occupation = input(\"Enter your occupation: \")\n",
        "\n",
        "# Create the output string\n",
        "output_string = f\"{name} is {age} years old and works as a {occupation}.\"\n",
        "\n",
        "# Display the result\n",
        "print(output_string)"
      ],
      "metadata": {
        "colab": {
          "base_uri": "https://localhost:8080/"
        },
        "id": "MIvQ0OKPWyAi",
        "outputId": "e101d547-2d7b-42b1-b9e9-c5db2ea07dcc"
      },
      "execution_count": 88,
      "outputs": [
        {
          "output_type": "stream",
          "name": "stdout",
          "text": [
            "Enter your name: Shahad\n",
            "Enter your age: 22\n",
            "Enter your occupation: Student\n",
            "Shahad is 22 years old and works as a Student.\n"
          ]
        }
      ]
    },
    {
      "cell_type": "code",
      "source": [
        "#Write a program that takes a positive integer as an input and return’s it’s length. Return 0 if the number is not a positive integer.\n",
        "num = 2456\n",
        "# Check if the input is a positive integer\n",
        "if num >=0:\n",
        "    num_str = str(num)\n",
        "    # Calculate and display the length\n",
        "    length = len(str(num_str))\n",
        "    print(f\"The length of {num} is {length}.\")\n",
        "else:\n",
        "    print(\"0\")"
      ],
      "metadata": {
        "colab": {
          "base_uri": "https://localhost:8080/"
        },
        "id": "zchhZew5XEe2",
        "outputId": "0cb9542c-5e8b-4462-ce45-05e9ffbee54e"
      },
      "execution_count": 89,
      "outputs": [
        {
          "output_type": "stream",
          "name": "stdout",
          "text": [
            "The length of 2456 is 4.\n"
          ]
        }
      ]
    },
    {
      "cell_type": "code",
      "source": [
        "#In a single line of code extract all numbers from a list that are greater than 100.\n",
        "\n",
        "lis1 = [30, 55, 1004 , 112.5, 33.8, 500.4, 76, 8, 200]\n",
        "lis2= [element for element in lis1 if element>100]\n",
        "print(lis2)"
      ],
      "metadata": {
        "colab": {
          "base_uri": "https://localhost:8080/"
        },
        "id": "hJ5UUohQYZcd",
        "outputId": "385d843f-f636-4bb1-e576-9658053c22f0"
      },
      "execution_count": 94,
      "outputs": [
        {
          "output_type": "stream",
          "name": "stdout",
          "text": [
            "[1004, 112.5, 500.4, 200]\n"
          ]
        }
      ]
    },
    {
      "cell_type": "code",
      "source": [
        "#In a single line of code capitalize the first character of the value strings in a Python dictionary.\n",
        "my_dict = {\"01\": \"ahmad\", \"02\": \"khalid\", \"03\": \"lama\"}\n",
        "capitalized_dict = {key: my_dict[key].capitalize() for c, key in enumerate(my_dict)}\n",
        "print(capitalized_dict)"
      ],
      "metadata": {
        "colab": {
          "base_uri": "https://localhost:8080/"
        },
        "id": "RQZc9b7SZ6z_",
        "outputId": "74cdcc29-1d2c-47e2-ec54-f30dc1b003da"
      },
      "execution_count": 97,
      "outputs": [
        {
          "output_type": "stream",
          "name": "stdout",
          "text": [
            "{'01': 'Ahmad', '02': 'Khalid', '03': 'Lama'}\n"
          ]
        }
      ]
    }
  ]
}